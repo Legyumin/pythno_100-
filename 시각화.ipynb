{
 "cells": [
  {
   "cell_type": "code",
   "execution_count": 26,
   "metadata": {},
   "outputs": [],
   "source": [
    "a=['kor','eng','math']\n",
    "b=[30,100,-80]"
   ]
  },
  {
   "cell_type": "code",
   "execution_count": 27,
   "metadata": {},
   "outputs": [
    {
     "data": {
      "text/plain": [
       "['C:\\\\Windows\\\\Fonts\\\\BOD_CI.TTF',\n",
       " 'C:\\\\Windows\\\\Fonts\\\\BOD_CR.TTF',\n",
       " 'C:\\\\Windows\\\\Fonts\\\\MAGNETOB.TTF',\n",
       " 'C:\\\\Windows\\\\Fonts\\\\TektonPro-BoldObl.otf',\n",
       " 'C:\\\\Windows\\\\Fonts\\\\BOD_BLAI.TTF',\n",
       " 'C:\\\\Windows\\\\Fonts\\\\BOD_BLAR.TTF',\n",
       " 'C:\\\\Windows\\\\Fonts\\\\BOD_BI.TTF',\n",
       " 'C:\\\\Windows\\\\Fonts\\\\ACaslonPro-Bold.otf',\n",
       " 'C:\\\\Windows\\\\Fonts\\\\H2MJRE.TTF',\n",
       " 'C:\\\\Windows\\\\Fonts\\\\BRITANIC.TTF',\n",
       " 'C:\\\\Windows\\\\Fonts\\\\Candarali.ttf',\n",
       " 'C:\\\\Windows\\\\Fonts\\\\H2GTRE.TTF',\n",
       " 'C:\\\\Windows\\\\Fonts\\\\tahoma.ttf',\n",
       " 'C:\\\\Windows\\\\Fonts\\\\HARLOWSI.TTF',\n",
       " 'C:\\\\Windows\\\\Fonts\\\\FRABK.TTF',\n",
       " 'C:\\\\Windows\\\\Fonts\\\\CALIFB.TTF',\n",
       " 'C:\\\\Windows\\\\Fonts\\\\TektonPro-BoldCond.otf',\n",
       " 'C:\\\\Windows\\\\Fonts\\\\consolai.ttf',\n",
       " 'C:\\\\Windows\\\\Fonts\\\\KozMinPr6N-Heavy.otf',\n",
       " 'C:\\\\Windows\\\\Fonts\\\\NuevaStd-Bold.otf',\n",
       " 'C:\\\\Windows\\\\Fonts\\\\georgiai.ttf',\n",
       " 'C:\\\\Windows\\\\Fonts\\\\micross.ttf',\n",
       " 'C:\\\\Windows\\\\Fonts\\\\MinionPro-Semibold.otf',\n",
       " 'C:\\\\Windows\\\\Fonts\\\\FRAHV.TTF',\n",
       " 'C:\\\\Windows\\\\Fonts\\\\AdobeArabic-Italic.otf',\n",
       " 'C:\\\\Windows\\\\Fonts\\\\AdobeGothicStd-Bold.otf',\n",
       " 'C:\\\\Windows\\\\Fonts\\\\KozGoPro-ExtraLight.otf',\n",
       " 'C:\\\\Windows\\\\Fonts\\\\GARABD.TTF',\n",
       " 'C:\\\\Windows\\\\Fonts\\\\CASTELAR.TTF',\n",
       " 'C:\\\\Windows\\\\Fonts\\\\GARAIT.TTF',\n",
       " 'C:\\\\Windows\\\\Fonts\\\\PoplarStd.otf',\n",
       " 'C:\\\\Windows\\\\Fonts\\\\FRAMDCN.TTF',\n",
       " 'C:\\\\Windows\\\\Fonts\\\\AdobeMingStd-Light.otf',\n",
       " 'C:\\\\Windows\\\\Fonts\\\\BERNHC.TTF',\n",
       " 'C:\\\\Windows\\\\Fonts\\\\mingliub.ttc',\n",
       " 'C:\\\\Windows\\\\Fonts\\\\corbell.ttf',\n",
       " 'C:\\\\Windows\\\\Fonts\\\\ROCCB___.TTF',\n",
       " 'C:\\\\Windows\\\\Fonts\\\\CENSCBK.TTF',\n",
       " 'C:\\\\Windows\\\\Fonts\\\\ENGR.TTF',\n",
       " 'C:\\\\Windows\\\\Fonts\\\\Gabriola.ttf',\n",
       " 'C:\\\\Windows\\\\Fonts\\\\MOD20.TTF',\n",
       " 'C:\\\\Windows\\\\Fonts\\\\Hancom Gothic Regular.ttf',\n",
       " 'C:\\\\Windows\\\\Fonts\\\\YuGothB.ttc',\n",
       " 'C:\\\\Windows\\\\Fonts\\\\trebucbd.ttf',\n",
       " 'C:\\\\Windows\\\\Fonts\\\\YuGothL.ttc',\n",
       " 'C:\\\\Windows\\\\Fonts\\\\GOUDOSB.TTF',\n",
       " 'C:\\\\Windows\\\\Fonts\\\\MSUIGHUR.TTF',\n",
       " 'C:\\\\Windows\\\\Fonts\\\\BOOKOSI.TTF',\n",
       " 'C:\\\\Windows\\\\Fonts\\\\H2SA1M.TTF',\n",
       " 'C:\\\\Windows\\\\Fonts\\\\MinionPro-Medium.otf',\n",
       " 'C:\\\\Windows\\\\Fonts\\\\KozGoPro-Bold.otf',\n",
       " 'C:\\\\Windows\\\\Fonts\\\\FELIXTI.TTF',\n",
       " 'C:\\\\Windows\\\\Fonts\\\\BirchStd.otf',\n",
       " 'C:\\\\Windows\\\\Fonts\\\\BRLNSR.TTF',\n",
       " 'C:\\\\Windows\\\\Fonts\\\\BELLI.TTF',\n",
       " 'C:\\\\Windows\\\\Fonts\\\\consola.ttf',\n",
       " 'C:\\\\Windows\\\\Fonts\\\\ANTQUAI.TTF',\n",
       " 'C:\\\\Windows\\\\Fonts\\\\GLSNECB.TTF',\n",
       " 'C:\\\\Windows\\\\Fonts\\\\calibrib.ttf',\n",
       " 'C:\\\\Windows\\\\Fonts\\\\MyriadPro-Regular.otf',\n",
       " 'C:\\\\Windows\\\\Fonts\\\\LSANSI.TTF',\n",
       " 'C:\\\\Windows\\\\Fonts\\\\SitkaI.ttc',\n",
       " 'C:\\\\Windows\\\\Fonts\\\\BOD_I.TTF',\n",
       " 'C:\\\\Windows\\\\Fonts\\\\BRADHITC.TTF',\n",
       " 'C:\\\\Windows\\\\Fonts\\\\AGENCYR.TTF',\n",
       " 'C:\\\\Windows\\\\Fonts\\\\gadugib.ttf',\n",
       " 'C:\\\\Windows\\\\Fonts\\\\arialbd.ttf',\n",
       " 'C:\\\\Windows\\\\Fonts\\\\KozGoPr6N-Regular.otf',\n",
       " 'C:\\\\Windows\\\\Fonts\\\\SitkaB.ttc',\n",
       " 'C:\\\\Windows\\\\Fonts\\\\ARIALN.TTF',\n",
       " 'C:\\\\Windows\\\\Fonts\\\\comicz.ttf',\n",
       " 'C:\\\\Windows\\\\Fonts\\\\MinionPro-BoldIt.otf',\n",
       " 'C:\\\\Windows\\\\Fonts\\\\constan.ttf',\n",
       " 'C:\\\\Windows\\\\Fonts\\\\PrestigeEliteStd-Bd.otf',\n",
       " 'C:\\\\Windows\\\\Fonts\\\\KozGoPr6N-Light.otf',\n",
       " 'C:\\\\Windows\\\\Fonts\\\\NirmalaB.ttf',\n",
       " 'C:\\\\Windows\\\\Fonts\\\\VINERITC.TTF',\n",
       " 'C:\\\\Windows\\\\Fonts\\\\HANDotumExt.ttf',\n",
       " 'C:\\\\Windows\\\\Fonts\\\\AdobeNaskh-Medium.otf',\n",
       " 'C:\\\\Windows\\\\Fonts\\\\phagspa.ttf',\n",
       " 'C:\\\\Windows\\\\Fonts\\\\GILLUBCD.TTF',\n",
       " 'C:\\\\Windows\\\\Fonts\\\\mmrtextb.ttf',\n",
       " 'C:\\\\Windows\\\\Fonts\\\\Candara.ttf',\n",
       " 'C:\\\\Windows\\\\Fonts\\\\gadugi.ttf',\n",
       " 'C:\\\\Windows\\\\Fonts\\\\seguiemj.ttf',\n",
       " 'C:\\\\Windows\\\\Fonts\\\\GOUDOSI.TTF',\n",
       " 'C:\\\\Windows\\\\Fonts\\\\LTYPEBO.TTF',\n",
       " 'C:\\\\Windows\\\\Fonts\\\\MyriadPro-BoldIt.otf',\n",
       " 'C:\\\\Windows\\\\Fonts\\\\ARIALNB.TTF',\n",
       " 'C:\\\\Windows\\\\Fonts\\\\malgunsl.ttf',\n",
       " 'C:\\\\Windows\\\\Fonts\\\\bahnschrift.ttf',\n",
       " 'C:\\\\Windows\\\\Fonts\\\\REFSAN.TTF',\n",
       " 'C:\\\\Windows\\\\Fonts\\\\segoescb.ttf',\n",
       " 'C:\\\\Windows\\\\Fonts\\\\OratorStd-Slanted.otf',\n",
       " 'C:\\\\Windows\\\\Fonts\\\\MyriadPro-SemiboldIt.otf',\n",
       " 'C:\\\\Windows\\\\Fonts\\\\NuevaStd-Cond.otf',\n",
       " 'C:\\\\Windows\\\\Fonts\\\\HANBatangB.ttf',\n",
       " 'C:\\\\Windows\\\\Fonts\\\\seguibl.ttf',\n",
       " 'C:\\\\Windows\\\\Fonts\\\\MinionPro-SemiboldIt.otf',\n",
       " 'C:\\\\Windows\\\\Fonts\\\\seguili.ttf',\n",
       " 'C:\\\\Windows\\\\Fonts\\\\VLADIMIR.TTF',\n",
       " 'C:\\\\Windows\\\\Fonts\\\\calibriz.ttf',\n",
       " 'C:\\\\Windows\\\\Fonts\\\\ChaparralPro-Italic.otf',\n",
       " 'C:\\\\Windows\\\\Fonts\\\\DUBAI-REGULAR.TTF',\n",
       " 'C:\\\\Windows\\\\Fonts\\\\GOTHICI.TTF',\n",
       " 'C:\\\\Windows\\\\Fonts\\\\calibri.ttf',\n",
       " 'C:\\\\Windows\\\\Fonts\\\\GIL_____.TTF',\n",
       " 'C:\\\\Windows\\\\Fonts\\\\CALIST.TTF',\n",
       " 'C:\\\\Windows\\\\Fonts\\\\H2GTRM.TTF',\n",
       " 'C:\\\\Windows\\\\Fonts\\\\couri.ttf',\n",
       " 'C:\\\\Windows\\\\Fonts\\\\GILBI___.TTF',\n",
       " 'C:\\\\Windows\\\\Fonts\\\\AGaramondPro-Italic.otf',\n",
       " 'C:\\\\Windows\\\\Fonts\\\\COOPBL.TTF',\n",
       " 'C:\\\\Windows\\\\Fonts\\\\GOUDOS.TTF',\n",
       " 'C:\\\\Windows\\\\Fonts\\\\ariblk.ttf',\n",
       " 'C:\\\\Windows\\\\Fonts\\\\PER_____.TTF',\n",
       " 'C:\\\\Windows\\\\Fonts\\\\Sitka.ttc',\n",
       " 'C:\\\\Windows\\\\Fonts\\\\POORICH.TTF',\n",
       " 'C:\\\\Windows\\\\Fonts\\\\CALISTB.TTF',\n",
       " 'C:\\\\Windows\\\\Fonts\\\\GOTHIC.TTF',\n",
       " 'C:\\\\Windows\\\\Fonts\\\\KozGoPro-Medium.otf',\n",
       " 'C:\\\\Windows\\\\Fonts\\\\SCHLBKI.TTF',\n",
       " 'C:\\\\Windows\\\\Fonts\\\\msyh.ttc',\n",
       " 'C:\\\\Windows\\\\Fonts\\\\COLONNA.TTF',\n",
       " 'C:\\\\Windows\\\\Fonts\\\\ChaparralPro-BoldIt.otf',\n",
       " 'C:\\\\Windows\\\\Fonts\\\\arial.ttf',\n",
       " 'C:\\\\Windows\\\\Fonts\\\\LBRITEDI.TTF',\n",
       " 'C:\\\\Windows\\\\Fonts\\\\INFROMAN.TTF',\n",
       " 'C:\\\\Windows\\\\Fonts\\\\COPRGTL.TTF',\n",
       " 'C:\\\\Windows\\\\Fonts\\\\ChaparralPro-LightIt.otf',\n",
       " 'C:\\\\Windows\\\\Fonts\\\\ELEPHNT.TTF',\n",
       " 'C:\\\\Windows\\\\Fonts\\\\AdobeFangsongStd-Regular.otf',\n",
       " 'C:\\\\Windows\\\\Fonts\\\\PRISTINA.TTF',\n",
       " 'C:\\\\Windows\\\\Fonts\\\\H2GPRM.TTF',\n",
       " 'C:\\\\Windows\\\\Fonts\\\\KozGoPr6N-Medium.otf',\n",
       " 'C:\\\\Windows\\\\Fonts\\\\AdobeDevanagari-BoldItalic.otf',\n",
       " 'C:\\\\Windows\\\\Fonts\\\\OCRAStd.otf',\n",
       " 'C:\\\\Windows\\\\Fonts\\\\CooperBlackStd-Italic.otf',\n",
       " 'C:\\\\Windows\\\\Fonts\\\\H2PORL.TTF',\n",
       " 'C:\\\\Windows\\\\Fonts\\\\segoeuii.ttf',\n",
       " 'C:\\\\Windows\\\\Fonts\\\\PERI____.TTF',\n",
       " 'C:\\\\Windows\\\\Fonts\\\\ARIALNI.TTF',\n",
       " 'C:\\\\Windows\\\\Fonts\\\\HMKMAMI.TTF',\n",
       " 'C:\\\\Windows\\\\Fonts\\\\CALIFI.TTF',\n",
       " 'C:\\\\Windows\\\\Fonts\\\\GARA.TTF',\n",
       " 'C:\\\\Windows\\\\Fonts\\\\KozGoPro-Regular.otf',\n",
       " 'C:\\\\Windows\\\\Fonts\\\\GIGI.TTF',\n",
       " 'C:\\\\Windows\\\\Fonts\\\\KozGoPr6N-Bold.otf',\n",
       " 'C:\\\\Windows\\\\Fonts\\\\MyriadArabic-Regular.otf',\n",
       " 'C:\\\\Windows\\\\Fonts\\\\AdobeSongStd-Light.otf',\n",
       " 'C:\\\\Windows\\\\Fonts\\\\AGaramondPro-Regular.otf',\n",
       " 'C:\\\\Windows\\\\Fonts\\\\TCCB____.TTF',\n",
       " 'C:\\\\Windows\\\\Fonts\\\\NuevaStd-Italic.otf',\n",
       " 'C:\\\\Windows\\\\Fonts\\\\HANWing2.ttf',\n",
       " 'C:\\\\Windows\\\\Fonts\\\\H2MKPB.TTF',\n",
       " 'C:\\\\Windows\\\\Fonts\\\\phagspab.ttf',\n",
       " 'C:\\\\Windows\\\\Fonts\\\\ROCKI.TTF',\n",
       " 'C:\\\\Windows\\\\Fonts\\\\calibrii.ttf',\n",
       " 'C:\\\\Windows\\\\Fonts\\\\impact.ttf',\n",
       " 'C:\\\\Windows\\\\Fonts\\\\KozMinPro-Regular.otf',\n",
       " 'C:\\\\Windows\\\\Fonts\\\\georgiab.ttf',\n",
       " 'C:\\\\Windows\\\\Fonts\\\\ACaslonPro-BoldItalic.otf',\n",
       " 'C:\\\\Windows\\\\Fonts\\\\constanz.ttf',\n",
       " 'C:\\\\Windows\\\\Fonts\\\\FREESCPT.TTF',\n",
       " 'C:\\\\Windows\\\\Fonts\\\\verdana.ttf',\n",
       " 'C:\\\\Windows\\\\Fonts\\\\segoeui.ttf',\n",
       " 'C:\\\\Windows\\\\Fonts\\\\seguisbi.ttf',\n",
       " 'C:\\\\Windows\\\\Fonts\\\\ITCEDSCR.TTF',\n",
       " 'C:\\\\Windows\\\\Fonts\\\\KozMinPr6N-Medium.otf',\n",
       " 'C:\\\\Windows\\\\Fonts\\\\LFAXDI.TTF',\n",
       " 'C:\\\\Windows\\\\Fonts\\\\CENTURY.TTF',\n",
       " 'C:\\\\Windows\\\\Fonts\\\\BKANT.TTF',\n",
       " 'C:\\\\Windows\\\\Fonts\\\\SCHLBKB.TTF',\n",
       " 'C:\\\\Windows\\\\Fonts\\\\MSUIGHUB.TTF',\n",
       " 'C:\\\\Windows\\\\Fonts\\\\JUICE___.TTF',\n",
       " 'C:\\\\Windows\\\\Fonts\\\\tahomabd.ttf',\n",
       " 'C:\\\\Windows\\\\Fonts\\\\trebuc.ttf',\n",
       " 'C:\\\\Windows\\\\Fonts\\\\LetterGothicStd.otf',\n",
       " 'C:\\\\Windows\\\\Fonts\\\\pala.ttf',\n",
       " 'C:\\\\Windows\\\\Fonts\\\\simsunb.ttf',\n",
       " 'C:\\\\Windows\\\\Fonts\\\\PARCHM.TTF',\n",
       " 'C:\\\\Windows\\\\Fonts\\\\CURLZ___.TTF',\n",
       " 'C:\\\\Windows\\\\Fonts\\\\BOD_PSTC.TTF',\n",
       " 'C:\\\\Windows\\\\Fonts\\\\Candaral.ttf',\n",
       " 'C:\\\\Windows\\\\Fonts\\\\sylfaen.ttf',\n",
       " 'C:\\\\Windows\\\\Fonts\\\\LFAX.TTF',\n",
       " 'C:\\\\Windows\\\\Fonts\\\\GILC____.TTF',\n",
       " 'C:\\\\Windows\\\\Fonts\\\\comic.ttf',\n",
       " 'C:\\\\Windows\\\\Fonts\\\\ROCKEB.TTF',\n",
       " 'C:\\\\Windows\\\\Fonts\\\\MyriadArabic-It.otf',\n",
       " 'C:\\\\Windows\\\\Fonts\\\\SNAP____.TTF',\n",
       " 'C:\\\\Windows\\\\Fonts\\\\BRLNSDB.TTF',\n",
       " 'C:\\\\Windows\\\\Fonts\\\\AdobeArabic-Bold.otf',\n",
       " 'C:\\\\Windows\\\\Fonts\\\\msyhbd.ttc',\n",
       " 'C:\\\\Windows\\\\Fonts\\\\mvboli.ttf',\n",
       " 'C:\\\\Windows\\\\Fonts\\\\KUNSTLER.TTF',\n",
       " 'C:\\\\Windows\\\\Fonts\\\\simsun.ttc',\n",
       " 'C:\\\\Windows\\\\Fonts\\\\IMPRISHA.TTF',\n",
       " 'C:\\\\Windows\\\\Fonts\\\\ERASLGHT.TTF',\n",
       " 'C:\\\\Windows\\\\Fonts\\\\corbeli.ttf',\n",
       " 'C:\\\\Windows\\\\Fonts\\\\PERB____.TTF',\n",
       " 'C:\\\\Windows\\\\Fonts\\\\LEELAWDB.TTF',\n",
       " 'C:\\\\Windows\\\\Fonts\\\\MyriadArabic-Bold.otf',\n",
       " 'C:\\\\Windows\\\\Fonts\\\\GOTHICBI.TTF',\n",
       " 'C:\\\\Windows\\\\Fonts\\\\CALISTI.TTF',\n",
       " 'C:\\\\Windows\\\\Fonts\\\\H2MJSM.TTF',\n",
       " 'C:\\\\Windows\\\\Fonts\\\\HTOWERTI.TTF',\n",
       " 'C:\\\\Windows\\\\Fonts\\\\LFAXD.TTF',\n",
       " 'C:\\\\Windows\\\\Fonts\\\\WINGDNG3.TTF',\n",
       " 'C:\\\\Windows\\\\Fonts\\\\cambriai.ttf',\n",
       " 'C:\\\\Windows\\\\Fonts\\\\MinionPro-MediumIt.otf',\n",
       " 'C:\\\\Windows\\\\Fonts\\\\holomdl2.ttf',\n",
       " 'C:\\\\Windows\\\\Fonts\\\\AdobeKaitiStd-Regular.otf',\n",
       " 'C:\\\\Windows\\\\Fonts\\\\ALGER.TTF',\n",
       " 'C:\\\\Windows\\\\Fonts\\\\himalaya.ttf',\n",
       " 'C:\\\\Windows\\\\Fonts\\\\RAGE.TTF',\n",
       " 'C:\\\\Windows\\\\Fonts\\\\CALISTBI.TTF',\n",
       " 'C:\\\\Windows\\\\Fonts\\\\GOTHICB.TTF',\n",
       " 'C:\\\\Windows\\\\Fonts\\\\MTCORSVA.TTF',\n",
       " 'C:\\\\Windows\\\\Fonts\\\\BOD_CB.TTF',\n",
       " 'C:\\\\Windows\\\\Fonts\\\\Hancom Gothic Bold.ttf',\n",
       " 'C:\\\\Windows\\\\Fonts\\\\BAUHS93.TTF',\n",
       " 'C:\\\\Windows\\\\Fonts\\\\AGaramondPro-BoldItalic.otf',\n",
       " 'C:\\\\Windows\\\\Fonts\\\\LSANSD.TTF',\n",
       " 'C:\\\\Windows\\\\Fonts\\\\palab.ttf',\n",
       " 'C:\\\\Windows\\\\Fonts\\\\MinionPro-Regular.otf',\n",
       " 'C:\\\\Windows\\\\Fonts\\\\TCB_____.TTF',\n",
       " 'C:\\\\Windows\\\\Fonts\\\\MyriadPro-Cond.otf',\n",
       " 'C:\\\\Windows\\\\Fonts\\\\courbi.ttf',\n",
       " 'C:\\\\Windows\\\\Fonts\\\\AdobeDevanagari-Bold.otf',\n",
       " 'C:\\\\Windows\\\\Fonts\\\\TCMI____.TTF',\n",
       " 'C:\\\\Windows\\\\Fonts\\\\webdings.ttf',\n",
       " 'C:\\\\Windows\\\\Fonts\\\\palabi.ttf',\n",
       " 'C:\\\\Windows\\\\Fonts\\\\JUMJA.TTF',\n",
       " 'C:\\\\Windows\\\\Fonts\\\\OUTLOOK.TTF',\n",
       " 'C:\\\\Windows\\\\Fonts\\\\taileb.ttf',\n",
       " 'C:\\\\Windows\\\\Fonts\\\\StencilStd.otf',\n",
       " 'C:\\\\Windows\\\\Fonts\\\\NIAGSOL.TTF',\n",
       " 'C:\\\\Windows\\\\Fonts\\\\KozGoPro-Light.otf',\n",
       " 'C:\\\\Windows\\\\Fonts\\\\HMFMOLD.TTF',\n",
       " 'C:\\\\Windows\\\\Fonts\\\\segoeprb.ttf',\n",
       " 'C:\\\\Windows\\\\Fonts\\\\ariali.ttf',\n",
       " 'C:\\\\Windows\\\\Fonts\\\\AdobeHebrew-Regular.otf',\n",
       " 'C:\\\\Windows\\\\Fonts\\\\BrushScriptStd.otf',\n",
       " 'C:\\\\Windows\\\\Fonts\\\\Candarai.ttf',\n",
       " 'C:\\\\Windows\\\\Fonts\\\\NuevaStd-BoldCond.otf',\n",
       " 'C:\\\\Windows\\\\Fonts\\\\HMFMPYUN.TTF',\n",
       " 'C:\\\\Windows\\\\Fonts\\\\BRUSHSCI.TTF',\n",
       " 'C:\\\\Windows\\\\Fonts\\\\TrajanPro-Bold.otf',\n",
       " 'C:\\\\Windows\\\\Fonts\\\\wingding.ttf',\n",
       " 'C:\\\\Windows\\\\Fonts\\\\AGENCYB.TTF',\n",
       " 'C:\\\\Windows\\\\Fonts\\\\cambriab.ttf',\n",
       " 'C:\\\\Windows\\\\Fonts\\\\gulim.ttc',\n",
       " 'C:\\\\Windows\\\\Fonts\\\\segoeuisl.ttf',\n",
       " 'C:\\\\Windows\\\\Fonts\\\\SHOWG.TTF',\n",
       " 'C:\\\\Windows\\\\Fonts\\\\ROCKB.TTF',\n",
       " 'C:\\\\Windows\\\\Fonts\\\\PAPYRUS.TTF',\n",
       " 'C:\\\\Windows\\\\Fonts\\\\RosewoodStd-Regular.otf',\n",
       " 'C:\\\\Windows\\\\Fonts\\\\MyriadHebrew-Bold.otf',\n",
       " 'C:\\\\Windows\\\\Fonts\\\\AdobeDevanagari-Italic.otf',\n",
       " 'C:\\\\Windows\\\\Fonts\\\\LTYPEB.TTF',\n",
       " 'C:\\\\Windows\\\\Fonts\\\\ACaslonPro-Regular.otf',\n",
       " 'C:\\\\Windows\\\\Fonts\\\\msyhl.ttc',\n",
       " 'C:\\\\Windows\\\\Fonts\\\\segoepr.ttf',\n",
       " 'C:\\\\Windows\\\\Fonts\\\\TEMPSITC.TTF',\n",
       " 'C:\\\\Windows\\\\Fonts\\\\malgun.ttf',\n",
       " 'C:\\\\Windows\\\\Fonts\\\\PERBI___.TTF',\n",
       " 'C:\\\\Windows\\\\Fonts\\\\H2PORM.TTF',\n",
       " 'C:\\\\Windows\\\\Fonts\\\\l_10646.ttf',\n",
       " 'C:\\\\Windows\\\\Fonts\\\\FORTE.TTF',\n",
       " 'C:\\\\Windows\\\\Fonts\\\\verdanaz.ttf',\n",
       " 'C:\\\\Windows\\\\Fonts\\\\HoboStd.otf',\n",
       " 'C:\\\\Windows\\\\Fonts\\\\GLECB.TTF',\n",
       " 'C:\\\\Windows\\\\Fonts\\\\BELLB.TTF',\n",
       " 'C:\\\\Windows\\\\Fonts\\\\CooperBlackStd.otf',\n",
       " 'C:\\\\Windows\\\\Fonts\\\\times.ttf',\n",
       " 'C:\\\\Windows\\\\Fonts\\\\msjh.ttc',\n",
       " 'C:\\\\Windows\\\\Fonts\\\\TCBI____.TTF',\n",
       " 'C:\\\\Windows\\\\Fonts\\\\BOOKOS.TTF',\n",
       " 'C:\\\\Windows\\\\Fonts\\\\KozMinPr6N-ExtraLight.otf',\n",
       " 'C:\\\\Windows\\\\Fonts\\\\ELEPHNTI.TTF',\n",
       " 'C:\\\\Windows\\\\Fonts\\\\KozGoPro-Heavy.otf',\n",
       " 'C:\\\\Windows\\\\Fonts\\\\LetterGothicStd-Bold.otf',\n",
       " 'C:\\\\Windows\\\\Fonts\\\\AdobeFanHeitiStd-Bold.otf',\n",
       " 'C:\\\\Windows\\\\Fonts\\\\segoeuib.ttf',\n",
       " 'C:\\\\Windows\\\\Fonts\\\\PERTIBD.TTF',\n",
       " 'C:\\\\Windows\\\\Fonts\\\\LFAXI.TTF',\n",
       " 'C:\\\\Windows\\\\Fonts\\\\lucon.ttf',\n",
       " 'C:\\\\Windows\\\\Fonts\\\\LBRITEI.TTF',\n",
       " 'C:\\\\Windows\\\\Fonts\\\\ACaslonPro-Italic.otf',\n",
       " 'C:\\\\Windows\\\\Fonts\\\\cambriaz.ttf',\n",
       " 'C:\\\\Windows\\\\Fonts\\\\GILSANUB.TTF',\n",
       " 'C:\\\\Windows\\\\Fonts\\\\MyriadPro-BoldCond.otf',\n",
       " 'C:\\\\Windows\\\\Fonts\\\\LeelawUI.ttf',\n",
       " 'C:\\\\Windows\\\\Fonts\\\\comici.ttf',\n",
       " 'C:\\\\Windows\\\\Fonts\\\\TrajanPro-Regular.otf',\n",
       " 'C:\\\\Windows\\\\Fonts\\\\seguisli.ttf',\n",
       " 'C:\\\\Windows\\\\Fonts\\\\GOUDYSTO.TTF',\n",
       " 'C:\\\\Windows\\\\Fonts\\\\ACaslonPro-Semibold.otf',\n",
       " 'C:\\\\Windows\\\\Fonts\\\\MyriadHebrew-Regular.otf',\n",
       " 'C:\\\\Windows\\\\Fonts\\\\MyriadHebrew-It.otf',\n",
       " 'C:\\\\Windows\\\\Fonts\\\\HANBatangExtB.ttf',\n",
       " 'C:\\\\Windows\\\\Fonts\\\\AdobeHebrew-Italic.otf',\n",
       " 'C:\\\\Windows\\\\Fonts\\\\CENTAUR.TTF',\n",
       " 'C:\\\\Windows\\\\Fonts\\\\seguisb.ttf',\n",
       " 'C:\\\\Windows\\\\Fonts\\\\LeelaUIb.ttf',\n",
       " 'C:\\\\Windows\\\\Fonts\\\\FRADMIT.TTF',\n",
       " 'C:\\\\Windows\\\\Fonts\\\\LBRITED.TTF',\n",
       " 'C:\\\\Windows\\\\Fonts\\\\GILI____.TTF',\n",
       " 'C:\\\\Windows\\\\Fonts\\\\framdit.ttf',\n",
       " 'C:\\\\Windows\\\\Fonts\\\\HMKMRHD.TTF',\n",
       " 'C:\\\\Windows\\\\Fonts\\\\COPRGTB.TTF',\n",
       " 'C:\\\\Windows\\\\Fonts\\\\taile.ttf',\n",
       " 'C:\\\\Windows\\\\Fonts\\\\msjhl.ttc',\n",
       " 'C:\\\\Windows\\\\Fonts\\\\comicbd.ttf',\n",
       " 'C:\\\\Windows\\\\Fonts\\\\corbelz.ttf',\n",
       " 'C:\\\\Windows\\\\Fonts\\\\YuGothR.ttc',\n",
       " 'C:\\\\Windows\\\\Fonts\\\\symbol.ttf',\n",
       " 'C:\\\\Windows\\\\Fonts\\\\KozMinPr6N-Light.otf',\n",
       " 'C:\\\\Windows\\\\Fonts\\\\GILB____.TTF',\n",
       " 'C:\\\\Windows\\\\Fonts\\\\KozGoPr6N-Heavy.otf',\n",
       " 'C:\\\\Windows\\\\Fonts\\\\BRLNSB.TTF',\n",
       " 'C:\\\\Windows\\\\Fonts\\\\HANDotum.ttf',\n",
       " 'C:\\\\Windows\\\\Fonts\\\\HMFMMUEX.TTC',\n",
       " 'C:\\\\Windows\\\\Fonts\\\\SCRIPTBL.TTF',\n",
       " 'C:\\\\Windows\\\\Fonts\\\\consolab.ttf',\n",
       " 'C:\\\\Windows\\\\Fonts\\\\AdobeArabic-BoldItalic.otf',\n",
       " 'C:\\\\Windows\\\\Fonts\\\\LetterGothicStd-Slanted.otf',\n",
       " 'C:\\\\Windows\\\\Fonts\\\\MinionPro-It.otf',\n",
       " 'C:\\\\Windows\\\\Fonts\\\\WINGDNG2.TTF',\n",
       " 'C:\\\\Windows\\\\Fonts\\\\FRSCRIPT.TTF',\n",
       " 'C:\\\\Windows\\\\Fonts\\\\msgothic.ttc',\n",
       " 'C:\\\\Windows\\\\Fonts\\\\LithosPro-Regular.otf',\n",
       " 'C:\\\\Windows\\\\Fonts\\\\STENCIL.TTF',\n",
       " 'C:\\\\Windows\\\\Fonts\\\\RAVIE.TTF',\n",
       " 'C:\\\\Windows\\\\Fonts\\\\MISTRAL.TTF',\n",
       " 'C:\\\\Windows\\\\Fonts\\\\MyriadPro-It.otf',\n",
       " 'C:\\\\Windows\\\\Fonts\\\\TCCEB.TTF',\n",
       " 'C:\\\\Windows\\\\Fonts\\\\HANBatangExt.ttf',\n",
       " 'C:\\\\Windows\\\\Fonts\\\\corbelli.ttf',\n",
       " 'C:\\\\Windows\\\\Fonts\\\\NuevaStd-CondItalic.otf',\n",
       " 'C:\\\\Windows\\\\Fonts\\\\LBRITE.TTF',\n",
       " 'C:\\\\Windows\\\\Fonts\\\\verdanab.ttf',\n",
       " 'C:\\\\Windows\\\\Fonts\\\\KozMinPro-Heavy.otf',\n",
       " 'C:\\\\Windows\\\\Fonts\\\\seguihis.ttf',\n",
       " 'C:\\\\Windows\\\\Fonts\\\\batang.ttc',\n",
       " 'C:\\\\Windows\\\\Fonts\\\\AdobeMyungjoStd-Medium.otf',\n",
       " 'C:\\\\Windows\\\\Fonts\\\\MAIAN.TTF',\n",
       " 'C:\\\\Windows\\\\Fonts\\\\corbel.ttf',\n",
       " 'C:\\\\Windows\\\\Fonts\\\\Nirmala.ttf',\n",
       " 'C:\\\\Windows\\\\Fonts\\\\LHANDW.TTF',\n",
       " 'C:\\\\Windows\\\\Fonts\\\\LeelUIsl.ttf',\n",
       " 'C:\\\\Windows\\\\Fonts\\\\BSSYM7.TTF',\n",
       " 'C:\\\\Windows\\\\Fonts\\\\MyriadPro-BoldCondIt.otf',\n",
       " 'C:\\\\Windows\\\\Fonts\\\\MesquiteStd.otf',\n",
       " 'C:\\\\Windows\\\\Fonts\\\\trebucbi.ttf',\n",
       " 'C:\\\\Windows\\\\Fonts\\\\timesbd.ttf',\n",
       " 'C:\\\\Windows\\\\Fonts\\\\DUBAI-LIGHT.TTF',\n",
       " 'C:\\\\Windows\\\\Fonts\\\\calibril.ttf',\n",
       " 'C:\\\\Windows\\\\Fonts\\\\courbd.ttf',\n",
       " 'C:\\\\Windows\\\\Fonts\\\\ANTQUAB.TTF',\n",
       " 'C:\\\\Windows\\\\Fonts\\\\HANBatangExtBB.ttf',\n",
       " 'C:\\\\Windows\\\\Fonts\\\\segoeuiz.ttf',\n",
       " 'C:\\\\Windows\\\\Fonts\\\\ANTQUABI.TTF',\n",
       " 'C:\\\\Windows\\\\Fonts\\\\ntailu.ttf',\n",
       " 'C:\\\\Windows\\\\Fonts\\\\segoesc.ttf',\n",
       " 'C:\\\\Windows\\\\Fonts\\\\LTYPE.TTF',\n",
       " 'C:\\\\Windows\\\\Fonts\\\\NuevaStd-BoldCondItalic.otf',\n",
       " 'C:\\\\Windows\\\\Fonts\\\\LSANSDI.TTF',\n",
       " 'C:\\\\Windows\\\\Fonts\\\\mmrtext.ttf',\n",
       " 'C:\\\\Windows\\\\Fonts\\\\CALIFR.TTF',\n",
       " 'C:\\\\Windows\\\\Fonts\\\\timesi.ttf',\n",
       " 'C:\\\\Windows\\\\Fonts\\\\LetterGothicStd-BoldSlanted.otf',\n",
       " 'C:\\\\Windows\\\\Fonts\\\\malgunbd.ttf',\n",
       " 'C:\\\\Windows\\\\Fonts\\\\KozMinPr6N-Regular.otf',\n",
       " 'C:\\\\Windows\\\\Fonts\\\\PERTILI.TTF',\n",
       " 'C:\\\\Windows\\\\Fonts\\\\BELL.TTF',\n",
       " 'C:\\\\Windows\\\\Fonts\\\\TCM_____.TTF',\n",
       " 'C:\\\\Windows\\\\Fonts\\\\KozMinPro-ExtraLight.otf',\n",
       " 'C:\\\\Windows\\\\Fonts\\\\Candarab.ttf',\n",
       " 'C:\\\\Windows\\\\Fonts\\\\MinionPro-BoldCn.otf',\n",
       " 'C:\\\\Windows\\\\Fonts\\\\ebrima.ttf',\n",
       " 'C:\\\\Windows\\\\Fonts\\\\BlackoakStd.otf',\n",
       " 'C:\\\\Windows\\\\Fonts\\\\HYHWPEQ.TTF',\n",
       " 'C:\\\\Windows\\\\Fonts\\\\palai.ttf',\n",
       " 'C:\\\\Windows\\\\Fonts\\\\NirmalaS.ttf',\n",
       " 'C:\\\\Windows\\\\Fonts\\\\ChaparralPro-Regular.otf',\n",
       " 'C:\\\\Windows\\\\Fonts\\\\calibrili.ttf',\n",
       " 'C:\\\\Windows\\\\Fonts\\\\msyi.ttf',\n",
       " 'C:\\\\Windows\\\\Fonts\\\\ARIALNBI.TTF',\n",
       " 'C:\\\\Windows\\\\Fonts\\\\NIAGENG.TTF',\n",
       " 'C:\\\\Windows\\\\Fonts\\\\verdanai.ttf',\n",
       " 'C:\\\\Windows\\\\Fonts\\\\HANBatang.ttf',\n",
       " 'C:\\\\Windows\\\\Fonts\\\\ebrimabd.ttf',\n",
       " 'C:\\\\Windows\\\\Fonts\\\\BOOKOSB.TTF',\n",
       " 'C:\\\\Windows\\\\Fonts\\\\HARNGTON.TTF',\n",
       " 'C:\\\\Windows\\\\Fonts\\\\trebucit.ttf',\n",
       " 'C:\\\\Windows\\\\Fonts\\\\ERASDEMI.TTF',\n",
       " 'C:\\\\Windows\\\\Fonts\\\\Inkfree.ttf',\n",
       " 'C:\\\\Windows\\\\Fonts\\\\msjhbd.ttc',\n",
       " 'C:\\\\Windows\\\\Fonts\\\\SCHLBKBI.TTF',\n",
       " 'C:\\\\Windows\\\\Fonts\\\\H2GSRB.TTF',\n",
       " 'C:\\\\Windows\\\\Fonts\\\\AdobeHeitiStd-Regular.otf',\n",
       " 'C:\\\\Windows\\\\Fonts\\\\TektonPro-Bold.otf',\n",
       " 'C:\\\\Windows\\\\Fonts\\\\constani.ttf',\n",
       " 'C:\\\\Windows\\\\Fonts\\\\javatext.ttf',\n",
       " 'C:\\\\Windows\\\\Fonts\\\\segoeuil.ttf',\n",
       " 'C:\\\\Windows\\\\Fonts\\\\BOOKOSBI.TTF',\n",
       " 'C:\\\\Windows\\\\Fonts\\\\FRADMCN.TTF',\n",
       " 'C:\\\\Windows\\\\Fonts\\\\NGULIM.TTF',\n",
       " 'C:\\\\Windows\\\\Fonts\\\\OLDENGL.TTF',\n",
       " 'C:\\\\Windows\\\\Fonts\\\\LithosPro-Black.otf',\n",
       " 'C:\\\\Windows\\\\Fonts\\\\ROCKBI.TTF',\n",
       " 'C:\\\\Windows\\\\Fonts\\\\LATINWD.TTF',\n",
       " 'C:\\\\Windows\\\\Fonts\\\\PALSCRI.TTF',\n",
       " 'C:\\\\Windows\\\\Fonts\\\\PLAYBILL.TTF',\n",
       " 'C:\\\\Windows\\\\Fonts\\\\MyriadPro-CondIt.otf',\n",
       " 'C:\\\\Windows\\\\Fonts\\\\DUBAI-BOLD.TTF',\n",
       " 'C:\\\\Program Files (x86)\\\\Common Files\\\\Microsoft Shared\\\\EQUATION\\\\MTEXTRA.TTF',\n",
       " 'C:\\\\Windows\\\\Fonts\\\\FRABKIT.TTF',\n",
       " 'C:\\\\Windows\\\\Fonts\\\\AdobeArabic-Regular.otf',\n",
       " 'C:\\\\Windows\\\\Fonts\\\\BOD_CBI.TTF',\n",
       " 'C:\\\\Windows\\\\Fonts\\\\BASKVILL.TTF',\n",
       " 'C:\\\\Windows\\\\Fonts\\\\OCRAEXT.TTF',\n",
       " 'C:\\\\Windows\\\\Fonts\\\\DUBAI-MEDIUM.TTF',\n",
       " 'C:\\\\Windows\\\\Fonts\\\\BOD_B.TTF',\n",
       " 'C:\\\\Windows\\\\Fonts\\\\KozMinPr6N-Bold.otf',\n",
       " 'C:\\\\Windows\\\\Fonts\\\\timesbi.ttf',\n",
       " 'C:\\\\Windows\\\\Fonts\\\\ROCC____.TTF',\n",
       " 'C:\\\\Windows\\\\Fonts\\\\MyriadArabic-BoldIt.otf',\n",
       " 'C:\\\\Windows\\\\Fonts\\\\H2HDRM.TTF',\n",
       " 'C:\\\\Windows\\\\Fonts\\\\OratorStd.otf',\n",
       " 'C:\\\\Windows\\\\Fonts\\\\ROCK.TTF',\n",
       " 'C:\\\\Windows\\\\Fonts\\\\TCCM____.TTF',\n",
       " 'C:\\\\Windows\\\\Fonts\\\\AGaramondPro-Bold.otf',\n",
       " 'C:\\\\Windows\\\\Fonts\\\\ChaparralPro-Bold.otf',\n",
       " 'C:\\\\Windows\\\\Fonts\\\\Candaraz.ttf',\n",
       " 'C:\\\\Windows\\\\Fonts\\\\ONYX.TTF',\n",
       " 'C:\\\\Windows\\\\Fonts\\\\REFSPCL.TTF',\n",
       " 'C:\\\\Windows\\\\Fonts\\\\HTOWERT.TTF',\n",
       " 'C:\\\\Windows\\\\Fonts\\\\georgia.ttf',\n",
       " 'C:\\\\Windows\\\\Fonts\\\\HMKMMAG.TTF',\n",
       " 'C:\\\\Windows\\\\Fonts\\\\HANDotumB.ttf',\n",
       " 'C:\\\\Windows\\\\Fonts\\\\LTYPEO.TTF',\n",
       " 'C:\\\\Windows\\\\Fonts\\\\FRADM.TTF',\n",
       " 'C:\\\\Windows\\\\Fonts\\\\MyriadPro-Semibold.otf',\n",
       " 'C:\\\\Windows\\\\Fonts\\\\ITCBLKAD.TTF',\n",
       " 'C:\\\\Windows\\\\Fonts\\\\corbelb.ttf',\n",
       " 'C:\\\\Windows\\\\Fonts\\\\ERASBD.TTF',\n",
       " 'C:\\\\Windows\\\\Fonts\\\\MinionPro-Bold.otf',\n",
       " 'C:\\\\Windows\\\\Fonts\\\\AdobeDevanagari-Regular.otf',\n",
       " 'C:\\\\Windows\\\\Fonts\\\\JOKERMAN.TTF',\n",
       " 'C:\\\\Windows\\\\Fonts\\\\TektonPro-BoldExt.otf',\n",
       " 'C:\\\\Windows\\\\Fonts\\\\LSANS.TTF',\n",
       " 'C:\\\\Windows\\\\Fonts\\\\FRAHVIT.TTF',\n",
       " 'C:\\\\Windows\\\\Fonts\\\\CHILLER.TTF',\n",
       " 'C:\\\\Windows\\\\Fonts\\\\GiddyupStd.otf',\n",
       " 'C:\\\\Windows\\\\Fonts\\\\seguisym.ttf',\n",
       " 'C:\\\\Windows\\\\Fonts\\\\MATURASC.TTF',\n",
       " 'C:\\\\Windows\\\\Fonts\\\\AdobeHebrew-BoldItalic.otf',\n",
       " 'C:\\\\Windows\\\\Fonts\\\\MyriadHebrew-BoldIt.otf',\n",
       " 'C:\\\\Windows\\\\Fonts\\\\seguibli.ttf',\n",
       " 'C:\\\\Windows\\\\Fonts\\\\framd.ttf',\n",
       " 'C:\\\\Windows\\\\Fonts\\\\cour.ttf',\n",
       " 'C:\\\\Windows\\\\Fonts\\\\MTEXTRA.TTF',\n",
       " 'C:\\\\Windows\\\\Fonts\\\\ZWAdobeF.TTF',\n",
       " 'C:\\\\Windows\\\\Fonts\\\\CharlemagneStd-Bold.otf',\n",
       " 'C:\\\\Windows\\\\Fonts\\\\AdobeHebrew-Bold.otf',\n",
       " 'C:\\\\Windows\\\\Fonts\\\\georgiaz.ttf',\n",
       " 'C:\\\\Windows\\\\Fonts\\\\ERASMD.TTF',\n",
       " 'C:\\\\Windows\\\\Fonts\\\\MinionPro-BoldCnIt.otf',\n",
       " 'C:\\\\Windows\\\\Fonts\\\\VIVALDII.TTF',\n",
       " 'C:\\\\Windows\\\\Fonts\\\\ARLRDBD.TTF',\n",
       " 'C:\\\\Windows\\\\Fonts\\\\ntailub.ttf',\n",
       " 'C:\\\\Windows\\\\Fonts\\\\consolaz.ttf',\n",
       " 'C:\\\\Windows\\\\Fonts\\\\BOD_R.TTF',\n",
       " 'C:\\\\Windows\\\\Fonts\\\\marlett.ttf',\n",
       " 'C:\\\\Windows\\\\Fonts\\\\LEELAWAD.TTF',\n",
       " 'C:\\\\Windows\\\\Fonts\\\\YuGothM.ttc',\n",
       " 'C:\\\\Windows\\\\Fonts\\\\SitkaZ.ttc',\n",
       " 'C:\\\\Windows\\\\Fonts\\\\KozMinPro-Medium.otf',\n",
       " 'C:\\\\Windows\\\\Fonts\\\\KozMinPro-Bold.otf',\n",
       " 'C:\\\\Windows\\\\Fonts\\\\segmdl2.ttf',\n",
       " 'C:\\\\Windows\\\\Fonts\\\\BROADW.TTF',\n",
       " 'C:\\\\Windows\\\\Fonts\\\\monbaiti.ttf',\n",
       " 'C:\\\\Windows\\\\Fonts\\\\HancomEQN.ttf',\n",
       " 'C:\\\\Windows\\\\Fonts\\\\constanb.ttf',\n",
       " 'C:\\\\Windows\\\\Fonts\\\\ITCKRIST.TTF',\n",
       " 'C:\\\\Windows\\\\Fonts\\\\KozGoPr6N-ExtraLight.otf',\n",
       " 'C:\\\\Windows\\\\Fonts\\\\cambria.ttc',\n",
       " 'C:\\\\Windows\\\\Fonts\\\\arialbi.ttf',\n",
       " 'C:\\\\Windows\\\\Fonts\\\\FTLTLT.TTF',\n",
       " 'C:\\\\Windows\\\\Fonts\\\\LCALLIG.TTF',\n",
       " 'C:\\\\Windows\\\\Fonts\\\\MyriadPro-Bold.otf',\n",
       " 'C:\\\\Windows\\\\Fonts\\\\HATTEN.TTF',\n",
       " 'C:\\\\Windows\\\\Fonts\\\\KozMinPro-Light.otf',\n",
       " 'C:\\\\Windows\\\\Fonts\\\\ACaslonPro-SemiboldItalic.otf']"
      ]
     },
     "execution_count": 27,
     "metadata": {},
     "output_type": "execute_result"
    }
   ],
   "source": [
    "import matplotlib.font_manager as fm\n",
    "font_list = fm.findSystemFonts()\n",
    "font_list"
   ]
  },
  {
   "cell_type": "code",
   "execution_count": 64,
   "metadata": {},
   "outputs": [
    {
     "ename": "TypeError",
     "evalue": "float() argument must be a string or a number, not 'set'",
     "output_type": "error",
     "traceback": [
      "\u001b[1;31m---------------------------------------------------------------------------\u001b[0m",
      "\u001b[1;31mTypeError\u001b[0m                                 Traceback (most recent call last)",
      "\u001b[1;32m<ipython-input-64-81599188c7c6>\u001b[0m in \u001b[0;36m<module>\u001b[1;34m\u001b[0m\n\u001b[0;32m      1\u001b[0m \u001b[1;32mimport\u001b[0m \u001b[0mmatplotlib\u001b[0m\u001b[1;33m.\u001b[0m\u001b[0mpyplot\u001b[0m \u001b[1;32mas\u001b[0m \u001b[0mplt\u001b[0m\u001b[1;33m\u001b[0m\u001b[1;33m\u001b[0m\u001b[0m\n\u001b[1;32m----> 2\u001b[1;33m \u001b[0mplt\u001b[0m\u001b[1;33m.\u001b[0m\u001b[0mplot\u001b[0m\u001b[1;33m(\u001b[0m\u001b[1;33m{\u001b[0m\u001b[1;36m1\u001b[0m\u001b[1;33m,\u001b[0m\u001b[1;36m2\u001b[0m\u001b[1;33m,\u001b[0m\u001b[1;36m3\u001b[0m\u001b[1;33m,\u001b[0m\u001b[1;36m4\u001b[0m\u001b[1;33m}\u001b[0m\u001b[1;33m)\u001b[0m\u001b[1;33m\u001b[0m\u001b[1;33m\u001b[0m\u001b[0m\n\u001b[0m\u001b[0;32m      3\u001b[0m \u001b[0mplt\u001b[0m\u001b[1;33m.\u001b[0m\u001b[0mylable\u001b[0m\u001b[1;33m(\u001b[0m\u001b[1;34m'a'\u001b[0m\u001b[1;33m)\u001b[0m\u001b[1;33m\u001b[0m\u001b[1;33m\u001b[0m\u001b[0m\n",
      "\u001b[1;32m~\\Anaconda3\\lib\\site-packages\\matplotlib\\pyplot.py\u001b[0m in \u001b[0;36mplot\u001b[1;34m(scalex, scaley, data, *args, **kwargs)\u001b[0m\n\u001b[0;32m   2793\u001b[0m     return gca().plot(\n\u001b[0;32m   2794\u001b[0m         *args, scalex=scalex, scaley=scaley, **({\"data\": data} if data\n\u001b[1;32m-> 2795\u001b[1;33m         is not None else {}), **kwargs)\n\u001b[0m\u001b[0;32m   2796\u001b[0m \u001b[1;33m\u001b[0m\u001b[0m\n\u001b[0;32m   2797\u001b[0m \u001b[1;33m\u001b[0m\u001b[0m\n",
      "\u001b[1;32m~\\Anaconda3\\lib\\site-packages\\matplotlib\\axes\\_axes.py\u001b[0m in \u001b[0;36mplot\u001b[1;34m(self, scalex, scaley, data, *args, **kwargs)\u001b[0m\n\u001b[0;32m   1666\u001b[0m         \u001b[0mlines\u001b[0m \u001b[1;33m=\u001b[0m \u001b[1;33m[\u001b[0m\u001b[1;33m*\u001b[0m\u001b[0mself\u001b[0m\u001b[1;33m.\u001b[0m\u001b[0m_get_lines\u001b[0m\u001b[1;33m(\u001b[0m\u001b[1;33m*\u001b[0m\u001b[0margs\u001b[0m\u001b[1;33m,\u001b[0m \u001b[0mdata\u001b[0m\u001b[1;33m=\u001b[0m\u001b[0mdata\u001b[0m\u001b[1;33m,\u001b[0m \u001b[1;33m**\u001b[0m\u001b[0mkwargs\u001b[0m\u001b[1;33m)\u001b[0m\u001b[1;33m]\u001b[0m\u001b[1;33m\u001b[0m\u001b[1;33m\u001b[0m\u001b[0m\n\u001b[0;32m   1667\u001b[0m         \u001b[1;32mfor\u001b[0m \u001b[0mline\u001b[0m \u001b[1;32min\u001b[0m \u001b[0mlines\u001b[0m\u001b[1;33m:\u001b[0m\u001b[1;33m\u001b[0m\u001b[1;33m\u001b[0m\u001b[0m\n\u001b[1;32m-> 1668\u001b[1;33m             \u001b[0mself\u001b[0m\u001b[1;33m.\u001b[0m\u001b[0madd_line\u001b[0m\u001b[1;33m(\u001b[0m\u001b[0mline\u001b[0m\u001b[1;33m)\u001b[0m\u001b[1;33m\u001b[0m\u001b[1;33m\u001b[0m\u001b[0m\n\u001b[0m\u001b[0;32m   1669\u001b[0m         \u001b[0mself\u001b[0m\u001b[1;33m.\u001b[0m\u001b[0mautoscale_view\u001b[0m\u001b[1;33m(\u001b[0m\u001b[0mscalex\u001b[0m\u001b[1;33m=\u001b[0m\u001b[0mscalex\u001b[0m\u001b[1;33m,\u001b[0m \u001b[0mscaley\u001b[0m\u001b[1;33m=\u001b[0m\u001b[0mscaley\u001b[0m\u001b[1;33m)\u001b[0m\u001b[1;33m\u001b[0m\u001b[1;33m\u001b[0m\u001b[0m\n\u001b[0;32m   1670\u001b[0m         \u001b[1;32mreturn\u001b[0m \u001b[0mlines\u001b[0m\u001b[1;33m\u001b[0m\u001b[1;33m\u001b[0m\u001b[0m\n",
      "\u001b[1;32m~\\Anaconda3\\lib\\site-packages\\matplotlib\\axes\\_base.py\u001b[0m in \u001b[0;36madd_line\u001b[1;34m(self, line)\u001b[0m\n\u001b[0;32m   1900\u001b[0m             \u001b[0mline\u001b[0m\u001b[1;33m.\u001b[0m\u001b[0mset_clip_path\u001b[0m\u001b[1;33m(\u001b[0m\u001b[0mself\u001b[0m\u001b[1;33m.\u001b[0m\u001b[0mpatch\u001b[0m\u001b[1;33m)\u001b[0m\u001b[1;33m\u001b[0m\u001b[1;33m\u001b[0m\u001b[0m\n\u001b[0;32m   1901\u001b[0m \u001b[1;33m\u001b[0m\u001b[0m\n\u001b[1;32m-> 1902\u001b[1;33m         \u001b[0mself\u001b[0m\u001b[1;33m.\u001b[0m\u001b[0m_update_line_limits\u001b[0m\u001b[1;33m(\u001b[0m\u001b[0mline\u001b[0m\u001b[1;33m)\u001b[0m\u001b[1;33m\u001b[0m\u001b[1;33m\u001b[0m\u001b[0m\n\u001b[0m\u001b[0;32m   1903\u001b[0m         \u001b[1;32mif\u001b[0m \u001b[1;32mnot\u001b[0m \u001b[0mline\u001b[0m\u001b[1;33m.\u001b[0m\u001b[0mget_label\u001b[0m\u001b[1;33m(\u001b[0m\u001b[1;33m)\u001b[0m\u001b[1;33m:\u001b[0m\u001b[1;33m\u001b[0m\u001b[1;33m\u001b[0m\u001b[0m\n\u001b[0;32m   1904\u001b[0m             \u001b[0mline\u001b[0m\u001b[1;33m.\u001b[0m\u001b[0mset_label\u001b[0m\u001b[1;33m(\u001b[0m\u001b[1;34m'_line%d'\u001b[0m \u001b[1;33m%\u001b[0m \u001b[0mlen\u001b[0m\u001b[1;33m(\u001b[0m\u001b[0mself\u001b[0m\u001b[1;33m.\u001b[0m\u001b[0mlines\u001b[0m\u001b[1;33m)\u001b[0m\u001b[1;33m)\u001b[0m\u001b[1;33m\u001b[0m\u001b[1;33m\u001b[0m\u001b[0m\n",
      "\u001b[1;32m~\\Anaconda3\\lib\\site-packages\\matplotlib\\axes\\_base.py\u001b[0m in \u001b[0;36m_update_line_limits\u001b[1;34m(self, line)\u001b[0m\n\u001b[0;32m   1922\u001b[0m         \u001b[0mFigures\u001b[0m \u001b[0mout\u001b[0m \u001b[0mthe\u001b[0m \u001b[0mdata\u001b[0m \u001b[0mlimit\u001b[0m \u001b[0mof\u001b[0m \u001b[0mthe\u001b[0m \u001b[0mgiven\u001b[0m \u001b[0mline\u001b[0m\u001b[1;33m,\u001b[0m \u001b[0mupdating\u001b[0m \u001b[0mself\u001b[0m\u001b[1;33m.\u001b[0m\u001b[0mdataLim\u001b[0m\u001b[1;33m.\u001b[0m\u001b[1;33m\u001b[0m\u001b[1;33m\u001b[0m\u001b[0m\n\u001b[0;32m   1923\u001b[0m         \"\"\"\n\u001b[1;32m-> 1924\u001b[1;33m         \u001b[0mpath\u001b[0m \u001b[1;33m=\u001b[0m \u001b[0mline\u001b[0m\u001b[1;33m.\u001b[0m\u001b[0mget_path\u001b[0m\u001b[1;33m(\u001b[0m\u001b[1;33m)\u001b[0m\u001b[1;33m\u001b[0m\u001b[1;33m\u001b[0m\u001b[0m\n\u001b[0m\u001b[0;32m   1925\u001b[0m         \u001b[1;32mif\u001b[0m \u001b[0mpath\u001b[0m\u001b[1;33m.\u001b[0m\u001b[0mvertices\u001b[0m\u001b[1;33m.\u001b[0m\u001b[0msize\u001b[0m \u001b[1;33m==\u001b[0m \u001b[1;36m0\u001b[0m\u001b[1;33m:\u001b[0m\u001b[1;33m\u001b[0m\u001b[1;33m\u001b[0m\u001b[0m\n\u001b[0;32m   1926\u001b[0m             \u001b[1;32mreturn\u001b[0m\u001b[1;33m\u001b[0m\u001b[1;33m\u001b[0m\u001b[0m\n",
      "\u001b[1;32m~\\Anaconda3\\lib\\site-packages\\matplotlib\\lines.py\u001b[0m in \u001b[0;36mget_path\u001b[1;34m(self)\u001b[0m\n\u001b[0;32m   1025\u001b[0m         \"\"\"\n\u001b[0;32m   1026\u001b[0m         \u001b[1;32mif\u001b[0m \u001b[0mself\u001b[0m\u001b[1;33m.\u001b[0m\u001b[0m_invalidy\u001b[0m \u001b[1;32mor\u001b[0m \u001b[0mself\u001b[0m\u001b[1;33m.\u001b[0m\u001b[0m_invalidx\u001b[0m\u001b[1;33m:\u001b[0m\u001b[1;33m\u001b[0m\u001b[1;33m\u001b[0m\u001b[0m\n\u001b[1;32m-> 1027\u001b[1;33m             \u001b[0mself\u001b[0m\u001b[1;33m.\u001b[0m\u001b[0mrecache\u001b[0m\u001b[1;33m(\u001b[0m\u001b[1;33m)\u001b[0m\u001b[1;33m\u001b[0m\u001b[1;33m\u001b[0m\u001b[0m\n\u001b[0m\u001b[0;32m   1028\u001b[0m         \u001b[1;32mreturn\u001b[0m \u001b[0mself\u001b[0m\u001b[1;33m.\u001b[0m\u001b[0m_path\u001b[0m\u001b[1;33m\u001b[0m\u001b[1;33m\u001b[0m\u001b[0m\n\u001b[0;32m   1029\u001b[0m \u001b[1;33m\u001b[0m\u001b[0m\n",
      "\u001b[1;32m~\\Anaconda3\\lib\\site-packages\\matplotlib\\lines.py\u001b[0m in \u001b[0;36mrecache\u001b[1;34m(self, always)\u001b[0m\n\u001b[0;32m    673\u001b[0m         \u001b[1;32mif\u001b[0m \u001b[0malways\u001b[0m \u001b[1;32mor\u001b[0m \u001b[0mself\u001b[0m\u001b[1;33m.\u001b[0m\u001b[0m_invalidy\u001b[0m\u001b[1;33m:\u001b[0m\u001b[1;33m\u001b[0m\u001b[1;33m\u001b[0m\u001b[0m\n\u001b[0;32m    674\u001b[0m             \u001b[0myconv\u001b[0m \u001b[1;33m=\u001b[0m \u001b[0mself\u001b[0m\u001b[1;33m.\u001b[0m\u001b[0mconvert_yunits\u001b[0m\u001b[1;33m(\u001b[0m\u001b[0mself\u001b[0m\u001b[1;33m.\u001b[0m\u001b[0m_yorig\u001b[0m\u001b[1;33m)\u001b[0m\u001b[1;33m\u001b[0m\u001b[1;33m\u001b[0m\u001b[0m\n\u001b[1;32m--> 675\u001b[1;33m             \u001b[0my\u001b[0m \u001b[1;33m=\u001b[0m \u001b[0m_to_unmasked_float_array\u001b[0m\u001b[1;33m(\u001b[0m\u001b[0myconv\u001b[0m\u001b[1;33m)\u001b[0m\u001b[1;33m.\u001b[0m\u001b[0mravel\u001b[0m\u001b[1;33m(\u001b[0m\u001b[1;33m)\u001b[0m\u001b[1;33m\u001b[0m\u001b[1;33m\u001b[0m\u001b[0m\n\u001b[0m\u001b[0;32m    676\u001b[0m         \u001b[1;32melse\u001b[0m\u001b[1;33m:\u001b[0m\u001b[1;33m\u001b[0m\u001b[1;33m\u001b[0m\u001b[0m\n\u001b[0;32m    677\u001b[0m             \u001b[0my\u001b[0m \u001b[1;33m=\u001b[0m \u001b[0mself\u001b[0m\u001b[1;33m.\u001b[0m\u001b[0m_y\u001b[0m\u001b[1;33m\u001b[0m\u001b[1;33m\u001b[0m\u001b[0m\n",
      "\u001b[1;32m~\\Anaconda3\\lib\\site-packages\\matplotlib\\cbook\\__init__.py\u001b[0m in \u001b[0;36m_to_unmasked_float_array\u001b[1;34m(x)\u001b[0m\n\u001b[0;32m   1388\u001b[0m         \u001b[1;32mreturn\u001b[0m \u001b[0mnp\u001b[0m\u001b[1;33m.\u001b[0m\u001b[0mma\u001b[0m\u001b[1;33m.\u001b[0m\u001b[0masarray\u001b[0m\u001b[1;33m(\u001b[0m\u001b[0mx\u001b[0m\u001b[1;33m,\u001b[0m \u001b[0mfloat\u001b[0m\u001b[1;33m)\u001b[0m\u001b[1;33m.\u001b[0m\u001b[0mfilled\u001b[0m\u001b[1;33m(\u001b[0m\u001b[0mnp\u001b[0m\u001b[1;33m.\u001b[0m\u001b[0mnan\u001b[0m\u001b[1;33m)\u001b[0m\u001b[1;33m\u001b[0m\u001b[1;33m\u001b[0m\u001b[0m\n\u001b[0;32m   1389\u001b[0m     \u001b[1;32melse\u001b[0m\u001b[1;33m:\u001b[0m\u001b[1;33m\u001b[0m\u001b[1;33m\u001b[0m\u001b[0m\n\u001b[1;32m-> 1390\u001b[1;33m         \u001b[1;32mreturn\u001b[0m \u001b[0mnp\u001b[0m\u001b[1;33m.\u001b[0m\u001b[0masarray\u001b[0m\u001b[1;33m(\u001b[0m\u001b[0mx\u001b[0m\u001b[1;33m,\u001b[0m \u001b[0mfloat\u001b[0m\u001b[1;33m)\u001b[0m\u001b[1;33m\u001b[0m\u001b[1;33m\u001b[0m\u001b[0m\n\u001b[0m\u001b[0;32m   1391\u001b[0m \u001b[1;33m\u001b[0m\u001b[0m\n\u001b[0;32m   1392\u001b[0m \u001b[1;33m\u001b[0m\u001b[0m\n",
      "\u001b[1;32m~\\Anaconda3\\lib\\site-packages\\numpy\\core\\numeric.py\u001b[0m in \u001b[0;36masarray\u001b[1;34m(a, dtype, order)\u001b[0m\n\u001b[0;32m    536\u001b[0m \u001b[1;33m\u001b[0m\u001b[0m\n\u001b[0;32m    537\u001b[0m     \"\"\"\n\u001b[1;32m--> 538\u001b[1;33m     \u001b[1;32mreturn\u001b[0m \u001b[0marray\u001b[0m\u001b[1;33m(\u001b[0m\u001b[0ma\u001b[0m\u001b[1;33m,\u001b[0m \u001b[0mdtype\u001b[0m\u001b[1;33m,\u001b[0m \u001b[0mcopy\u001b[0m\u001b[1;33m=\u001b[0m\u001b[1;32mFalse\u001b[0m\u001b[1;33m,\u001b[0m \u001b[0morder\u001b[0m\u001b[1;33m=\u001b[0m\u001b[0morder\u001b[0m\u001b[1;33m)\u001b[0m\u001b[1;33m\u001b[0m\u001b[1;33m\u001b[0m\u001b[0m\n\u001b[0m\u001b[0;32m    539\u001b[0m \u001b[1;33m\u001b[0m\u001b[0m\n\u001b[0;32m    540\u001b[0m \u001b[1;33m\u001b[0m\u001b[0m\n",
      "\u001b[1;31mTypeError\u001b[0m: float() argument must be a string or a number, not 'set'"
     ]
    },
    {
     "data": {
      "image/png": "[encoded data removed]",
      "text/plain": [
       "<Figure size 432x288 with 1 Axes>"
      ]
     },
     "metadata": {
      "needs_background": "light"
     },
     "output_type": "display_data"
    }
   ],
   "source": [
    "import matplotlib.pyplot as plt\n",
    "plt.plot({1,2,3,4})\n",
    "plt.ylable('a')"
   ]
  },
  {
   "cell_type": "code",
   "execution_count": 35,
   "metadata": {},
   "outputs": [],
   "source": [
    "from matplotlib import rc"
   ]
  },
  {
   "cell_type": "code",
   "execution_count": 36,
   "metadata": {},
   "outputs": [],
   "source": [
    "rc('font',family='gulim')"
   ]
  },
  {
   "cell_type": "code",
   "execution_count": 37,
   "metadata": {},
   "outputs": [],
   "source": [
    "import matplotlib.pyplot as plt"
   ]
  },
  {
   "cell_type": "code",
   "execution_count": 38,
   "metadata": {},
   "outputs": [
    {
     "data": {
      "text/plain": [
       "<BarContainer object of 3 artists>"
      ]
     },
     "execution_count": 38,
     "metadata": {},
     "output_type": "execute_result"
    },
    {
     "data": {
      "image/png": "[encoded data removed]",
      "text/plain": [
       "<Figure size 432x288 with 1 Axes>"
      ]
     },
     "metadata": {
      "needs_background": "light"
     },
     "output_type": "display_data"
    }
   ],
   "source": [
    "plt.bar(a,b)"
   ]
  },
  {
   "cell_type": "code",
   "execution_count": 11,
   "metadata": {},
   "outputs": [
    {
     "data": {
      "text/plain": [
       "[<matplotlib.lines.Line2D at 0x1bf7351c548>]"
      ]
     },
     "execution_count": 11,
     "metadata": {},
     "output_type": "execute_result"
    },
    {
     "data": {
      "image/png": "[encoded data removed]",
      "text/plain": [
       "<Figure size 432x288 with 1 Axes>"
      ]
     },
     "metadata": {
      "needs_background": "light"
     },
     "output_type": "display_data"
    }
   ],
   "source": [
    "plt.plot(a,b)"
   ]
  },
  {
   "cell_type": "code",
   "execution_count": 39,
   "metadata": {},
   "outputs": [
    {
     "data": {
      "text/plain": [
       "Text(0.5, 1.0, '돋움')"
      ]
     },
     "execution_count": 39,
     "metadata": {},
     "output_type": "execute_result"
    },
    {
     "data": {
      "image/png": "[encoded data removed]",
      "text/plain": [
       "<Figure size 432x288 with 1 Axes>"
      ]
     },
     "metadata": {
      "needs_background": "light"
     },
     "output_type": "display_data"
    }
   ],
   "source": [
    "plt.barh(a,b,color = 'blue')\n",
    "plt.ylabel('subject')\n",
    "plt.xlabel('score')\n",
    "plt.title('돋움')"
   ]
  },
  {
   "cell_type": "code",
   "execution_count": 23,
   "metadata": {},
   "outputs": [
    {
     "data": {
      "text/plain": [
       "<matplotlib.legend.Legend at 0x1bf73934ac8>"
      ]
     },
     "execution_count": 23,
     "metadata": {},
     "output_type": "execute_result"
    },
    {
     "data": {
      "image/png": "[encoded data removed]",
      "text/plain": [
       "<Figure size 432x288 with 1 Axes>"
      ]
     },
     "metadata": {
      "needs_background": "light"
     },
     "output_type": "display_data"
    }
   ],
   "source": [
    "plt.plot(a,b)\n",
    "plt.plot([1,2,3,4,5]),([80,50,70,100,90])\n",
    "plt.ylabel('Y name')\n",
    "plt.xlabel('X name')\n",
    "plt.title('Test')\n",
    "plt.legend(['A','B'])"
   ]
  },
  {
   "cell_type": "code",
   "execution_count": 2,
   "metadata": {},
   "outputs": [
    {
     "data": {
      "text/plain": [
       "['kor', 'eng', 'math']"
      ]
     },
     "execution_count": 2,
     "metadata": {},
     "output_type": "execute_result"
    }
   ],
   "source": [
    "a"
   ]
  },
  {
   "cell_type": "code",
   "execution_count": 3,
   "metadata": {},
   "outputs": [
    {
     "data": {
      "text/plain": [
       "[30, 100, -80]"
      ]
     },
     "execution_count": 3,
     "metadata": {},
     "output_type": "execute_result"
    }
   ],
   "source": [
    "b"
   ]
  },
  {
   "cell_type": "code",
   "execution_count": 49,
   "metadata": {},
   "outputs": [],
   "source": [
    "import pandas as pd\n",
    "path = r'C:\\Users\\user\\Desktop\\fd\\\\A.csv'"
   ]
  },
  {
   "cell_type": "code",
   "execution_count": 50,
   "metadata": {},
   "outputs": [
    {
     "data": {
      "text/plain": [
       "'C:\\\\Users\\\\user\\\\Desktop\\\\fd\\\\\\\\A.csv'"
      ]
     },
     "execution_count": 50,
     "metadata": {},
     "output_type": "execute_result"
    }
   ],
   "source": [
    "path"
   ]
  },
  {
   "cell_type": "code",
   "execution_count": 51,
   "metadata": {},
   "outputs": [],
   "source": [
    "df = pd.read_csv(path,encoding='cp949')"
   ]
  },
  {
   "cell_type": "code",
   "execution_count": 52,
   "metadata": {},
   "outputs": [],
   "source": [
    "t=df.head(5)"
   ]
  },
  {
   "cell_type": "code",
   "execution_count": 53,
   "metadata": {},
   "outputs": [
    {
     "data": {
      "text/html": [
       "<div>\n",
       "<style scoped>\n",
       "    .dataframe tbody tr th:only-of-type {\n",
       "        vertical-align: middle;\n",
       "    }\n",
       "\n",
       "    .dataframe tbody tr th {\n",
       "        vertical-align: top;\n",
       "    }\n",
       "\n",
       "    .dataframe thead th {\n",
       "        text-align: right;\n",
       "    }\n",
       "</style>\n",
       "<table border=\"1\" class=\"dataframe\">\n",
       "  <thead>\n",
       "    <tr style=\"text-align: right;\">\n",
       "      <th></th>\n",
       "      <th>출신고교</th>\n",
       "      <th>학번</th>\n",
       "      <th>이름</th>\n",
       "      <th>국어</th>\n",
       "      <th>수학</th>\n",
       "      <th>영어</th>\n",
       "      <th>과탐1</th>\n",
       "      <th>과탐2</th>\n",
       "    </tr>\n",
       "  </thead>\n",
       "  <tbody>\n",
       "    <tr>\n",
       "      <td>0</td>\n",
       "      <td>A</td>\n",
       "      <td>30104</td>\n",
       "      <td>조매미</td>\n",
       "      <td>70</td>\n",
       "      <td>66</td>\n",
       "      <td>78</td>\n",
       "      <td>38</td>\n",
       "      <td>42</td>\n",
       "    </tr>\n",
       "    <tr>\n",
       "      <td>1</td>\n",
       "      <td>A</td>\n",
       "      <td>30115</td>\n",
       "      <td>김개미</td>\n",
       "      <td>71</td>\n",
       "      <td>77</td>\n",
       "      <td>89</td>\n",
       "      <td>15</td>\n",
       "      <td>20</td>\n",
       "    </tr>\n",
       "    <tr>\n",
       "      <td>2</td>\n",
       "      <td>A</td>\n",
       "      <td>30117</td>\n",
       "      <td>박모기</td>\n",
       "      <td>76</td>\n",
       "      <td>55</td>\n",
       "      <td>75</td>\n",
       "      <td>35</td>\n",
       "      <td>30</td>\n",
       "    </tr>\n",
       "    <tr>\n",
       "      <td>3</td>\n",
       "      <td>A</td>\n",
       "      <td>30120</td>\n",
       "      <td>최파리</td>\n",
       "      <td>69</td>\n",
       "      <td>66</td>\n",
       "      <td>51</td>\n",
       "      <td>15</td>\n",
       "      <td>36</td>\n",
       "    </tr>\n",
       "    <tr>\n",
       "      <td>4</td>\n",
       "      <td>A</td>\n",
       "      <td>30215</td>\n",
       "      <td>정땅벌</td>\n",
       "      <td>63</td>\n",
       "      <td>20</td>\n",
       "      <td>76</td>\n",
       "      <td>15</td>\n",
       "      <td>19</td>\n",
       "    </tr>\n",
       "  </tbody>\n",
       "</table>\n",
       "</div>"
      ],
      "text/plain": [
       "  출신고교     학번   이름  국어  수학  영어  과탐1  과탐2\n",
       "0    A  30104  조매미  70  66  78   38   42\n",
       "1    A  30115  김개미  71  77  89   15   20\n",
       "2    A  30117  박모기  76  55  75   35   30\n",
       "3    A  30120  최파리  69  66  51   15   36\n",
       "4    A  30215  정땅벌  63  20  76   15   19"
      ]
     },
     "execution_count": 53,
     "metadata": {},
     "output_type": "execute_result"
    }
   ],
   "source": [
    "t"
   ]
  },
  {
   "cell_type": "code",
   "execution_count": 54,
   "metadata": {},
   "outputs": [],
   "source": [
    "a=t['이름']\n",
    "b=t['국어']"
   ]
  },
  {
   "cell_type": "code",
   "execution_count": 59,
   "metadata": {},
   "outputs": [
    {
     "data": {
      "text/plain": [
       "0    70\n",
       "1    71\n",
       "2    76\n",
       "3    69\n",
       "4    63\n",
       "Name: 국어, dtype: int64"
      ]
     },
     "execution_count": 59,
     "metadata": {},
     "output_type": "execute_result"
    }
   ],
   "source": [
    "b"
   ]
  },
  {
   "cell_type": "code",
   "execution_count": 62,
   "metadata": {},
   "outputs": [
    {
     "data": {
      "text/plain": [
       "Text(0.5, 1.0, 'A')"
      ]
     },
     "execution_count": 62,
     "metadata": {},
     "output_type": "execute_result"
    },
    {
     "data": {
      "image/png": "[encoded data removed]",
      "text/plain": [
       "<Figure size 432x288 with 1 Axes>"
      ]
     },
     "metadata": {
      "needs_background": "light"
     },
     "output_type": "display_data"
    }
   ],
   "source": [
    "plt.plot(a,b,'r--')\n",
    "plt.ylabel('국어')\n",
    "plt.xlabel('이름')\n",
    "plt.title('a')"
   ]
  }
 ],
 "metadata": {
  "kernelspec": {
   "display_name": "Python 3",
   "language": "python",
   "name": "python3"
  },
  "language_info": {
   "codemirror_mode": {
    "name": "ipython",
    "version": 3
   },
   "file_extension": ".py",
   "mimetype": "text/x-python",
   "name": "python",
   "nbconvert_exporter": "python",
   "pygments_lexer": "ipython3",
   "version": "3.7.4"
  }
 },
 "nbformat": 4,
 "nbformat_minor": 2
}
