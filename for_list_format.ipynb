{
 "cells": [
  {
   "cell_type": "markdown",
   "metadata": {},
   "source": [
    "### for_list_format"
   ]
  },
  {
   "cell_type": "code",
   "execution_count": 8,
   "metadata": {},
   "outputs": [],
   "source": [
    "i=0"
   ]
  },
  {
   "cell_type": "code",
   "execution_count": 22,
   "metadata": {},
   "outputs": [
    {
     "data": {
      "text/plain": [
       "([1, 2, 3, 4, 5], list)"
      ]
     },
     "execution_count": 22,
     "metadata": {},
     "output_type": "execute_result"
    }
   ],
   "source": [
    "number = [1,2,3,4,5]\n",
    "number , type(number)"
   ]
  },
  {
   "cell_type": "code",
   "execution_count": 32,
   "metadata": {},
   "outputs": [
    {
     "ename": "NameError",
     "evalue": "name 'num' is not defined",
     "output_type": "error",
     "traceback": [
      "\u001b[1;31m---------------------------------------------------------------------------\u001b[0m",
      "\u001b[1;31mNameError\u001b[0m                                 Traceback (most recent call last)",
      "\u001b[1;32m<ipython-input-32-64e979ee6d90>\u001b[0m in \u001b[0;36m<module>\u001b[1;34m\u001b[0m\n\u001b[1;32m----> 1\u001b[1;33m \u001b[1;32mfor\u001b[0m \u001b[0mi\u001b[0m \u001b[1;32min\u001b[0m \u001b[0mnum\u001b[0m \u001b[1;33m:\u001b[0m\u001b[1;33m\u001b[0m\u001b[1;33m\u001b[0m\u001b[0m\n\u001b[0m\u001b[0;32m      2\u001b[0m     \u001b[0mprint\u001b[0m\u001b[1;33m(\u001b[0m\u001b[0mi\u001b[0m\u001b[1;33m,\u001b[0m  \u001b[0mend\u001b[0m \u001b[1;33m=\u001b[0m \u001b[1;34m''\u001b[0m\u001b[1;33m)\u001b[0m\u001b[1;33m\u001b[0m\u001b[1;33m\u001b[0m\u001b[0m\n",
      "\u001b[1;31mNameError\u001b[0m: name 'num' is not defined"
     ]
    }
   ],
   "source": [
    "for i in num :\n",
    "    print(i,  end = '')"
   ]
  },
  {
   "cell_type": "code",
   "execution_count": 33,
   "metadata": {},
   "outputs": [
    {
     "data": {
      "text/plain": [
       "([1, 2, 3, 4, 5, 6, 7, 8, 9, 10], list)"
      ]
     },
     "execution_count": 33,
     "metadata": {},
     "output_type": "execute_result"
    }
   ],
   "source": [
    "num=list(range(1,11))\n",
    "num,type(num)"
   ]
  },
  {
   "cell_type": "code",
   "execution_count": 10,
   "metadata": {},
   "outputs": [
    {
     "name": "stdout",
     "output_type": "stream",
     "text": [
      "i는 0이다\n"
     ]
    }
   ],
   "source": [
    "i=0\n",
    "if i==0 :\n",
    "    print('i는 0이다')\n",
    "else:\n",
    "    print('i는 0이 아니다')"
   ]
  },
  {
   "cell_type": "code",
   "execution_count": 15,
   "metadata": {},
   "outputs": [
    {
     "name": "stdout",
     "output_type": "stream",
     "text": [
      "10 는 짝수다\n"
     ]
    }
   ],
   "source": [
    "i=10\n",
    "if i%2==0 :\n",
    "    print(i,'는 짝수다')\n",
    "else:\n",
    "    print(i,'는 홀수다')"
   ]
  },
  {
   "cell_type": "code",
   "execution_count": 17,
   "metadata": {},
   "outputs": [
    {
     "name": "stdout",
     "output_type": "stream",
     "text": [
      "숫자입력>>>1\n",
      "1 는 홀수다\n"
     ]
    }
   ],
   "source": [
    "i=int(input('숫자입력>>>'))\n",
    "if i%2==0 :\n",
    "    print(i,'는 짝수다')\n",
    "else:\n",
    "    print(i,'는 홀수다')"
   ]
  },
  {
   "cell_type": "code",
   "execution_count": 20,
   "metadata": {},
   "outputs": [
    {
     "name": "stdout",
     "output_type": "stream",
     "text": [
      "국 영 수 정보 "
     ]
    }
   ],
   "source": [
    "sub=['국','영','수','정보']\n",
    "for i in range(len(sub)):\n",
    "    print(sub[i], end=' ')"
   ]
  },
  {
   "cell_type": "code",
   "execution_count": 23,
   "metadata": {},
   "outputs": [
    {
     "name": "stdout",
     "output_type": "stream",
     "text": [
      "국 영 수 정보 "
     ]
    }
   ],
   "source": [
    "sub=['국','영','수','정보']\n",
    "for i,s in enumerate(sub):\n",
    "    print(sub[i], end=' ')"
   ]
  },
  {
   "cell_type": "code",
   "execution_count": 34,
   "metadata": {},
   "outputs": [
    {
     "name": "stdout",
     "output_type": "stream",
     "text": [
      "1 교시 국 해당없음\n",
      "2 교시 영 해당없음\n",
      "3 교시 수 해당없음\n",
      "4 교시 정보 합격\n"
     ]
    }
   ],
   "source": [
    "sub=['국','영','수','정보']\n",
    "for i in range(len(sub)):\n",
    "    if sub[i] == '정보' :\n",
    "        print(i+1,'교시',sub[i],'합격')\n",
    "    else :\n",
    "        print(i+1,'교시',sub[i],'해당없음')"
   ]
  },
  {
   "cell_type": "code",
   "execution_count": 31,
   "metadata": {},
   "outputs": [
    {
     "name": "stdout",
     "output_type": "stream",
     "text": [
      "야~ 나도 파이썬 할 수 있어\n",
      "파이썬\n",
      "야~ 나도 파이썬 할 수 있어\n",
      "파이썬\n",
      "야~ 나도 파이썬 할 수 있어\n",
      "파이썬\n",
      "야~ 나도 파이썬 할 수 있어\n",
      "파이썬\n",
      "야~ 나도 파이썬 할 수 있어\n",
      "파이썬\n"
     ]
    }
   ],
   "source": [
    "for i in range(1,11):\n",
    "    if i % 2==0:\n",
    "        print('파이썬')\n",
    "    else :\n",
    "        print('야~ 나도 파이썬 할 수 있어')"
   ]
  },
  {
   "cell_type": "markdown",
   "metadata": {},
   "source": [
    "### List"
   ]
  },
  {
   "cell_type": "code",
   "execution_count": 25,
   "metadata": {},
   "outputs": [
    {
     "data": {
      "text/plain": [
       "('  광주광역시 중구 참외전로 6번지 3층 창의관   ', str, 29)"
      ]
     },
     "execution_count": 25,
     "metadata": {},
     "output_type": "execute_result"
    }
   ],
   "source": [
    "juso = '  광주광역시 중구 참외전로 6번지 3층 창의관   '\n",
    "juso, type(juso), len(juso)"
   ]
  },
  {
   "cell_type": "code",
   "execution_count": 26,
   "metadata": {},
   "outputs": [],
   "source": [
    "juso = juso.strip()"
   ]
  },
  {
   "cell_type": "code",
   "execution_count": 30,
   "metadata": {},
   "outputs": [
    {
     "data": {
      "text/plain": [
       "('광주광역시 중구 참외전로 6번지 3층 창의관', 24)"
      ]
     },
     "execution_count": 30,
     "metadata": {},
     "output_type": "execute_result"
    }
   ],
   "source": [
    "juso, len(juso)"
   ]
  },
  {
   "cell_type": "code",
   "execution_count": 37,
   "metadata": {},
   "outputs": [],
   "source": [
    "addr=juso.strip()"
   ]
  },
  {
   "cell_type": "code",
   "execution_count": 38,
   "metadata": {},
   "outputs": [
    {
     "data": {
      "text/plain": [
       "('광주광역시 중구 참외전로 6번지 3층 창의관', 24, str)"
      ]
     },
     "execution_count": 38,
     "metadata": {},
     "output_type": "execute_result"
    }
   ],
   "source": [
    "addr, len(addr), type(addr)"
   ]
  },
  {
   "cell_type": "code",
   "execution_count": 39,
   "metadata": {},
   "outputs": [
    {
     "data": {
      "text/plain": [
       "('광주', '역시 중구 참외전로 6번지 3층 창의관')"
      ]
     },
     "execution_count": 39,
     "metadata": {},
     "output_type": "execute_result"
    }
   ],
   "source": [
    "addr[:2], addr[3:]"
   ]
  },
  {
   "cell_type": "code",
   "execution_count": 40,
   "metadata": {},
   "outputs": [
    {
     "data": {
      "text/plain": [
       "False"
      ]
     },
     "execution_count": 40,
     "metadata": {},
     "output_type": "execute_result"
    }
   ],
   "source": [
    "juso.startswith('인천')"
   ]
  },
  {
   "cell_type": "code",
   "execution_count": 41,
   "metadata": {},
   "outputs": [
    {
     "data": {
      "text/plain": [
       "False"
      ]
     },
     "execution_count": 41,
     "metadata": {},
     "output_type": "execute_result"
    }
   ],
   "source": [
    "juso.endswith('동')"
   ]
  },
  {
   "cell_type": "code",
   "execution_count": 42,
   "metadata": {},
   "outputs": [
    {
     "data": {
      "text/plain": [
       "True"
      ]
     },
     "execution_count": 42,
     "metadata": {},
     "output_type": "execute_result"
    }
   ],
   "source": [
    "'광주광역시' in addr"
   ]
  },
  {
   "cell_type": "code",
   "execution_count": 36,
   "metadata": {},
   "outputs": [
    {
     "data": {
      "text/plain": [
       "True"
      ]
     },
     "execution_count": 36,
     "metadata": {},
     "output_type": "execute_result"
    }
   ],
   "source": [
    "'광주' in addr"
   ]
  },
  {
   "cell_type": "markdown",
   "metadata": {},
   "source": [
    "### format"
   ]
  },
  {
   "cell_type": "code",
   "execution_count": 64,
   "metadata": {},
   "outputs": [
    {
     "name": "stdout",
     "output_type": "stream",
     "text": [
      "A is 사과, 감자\n"
     ]
    }
   ],
   "source": [
    "s='A is {}, {}'\n",
    "pr = s.format('사과','감자')\n",
    "print(pr)"
   ]
  },
  {
   "cell_type": "code",
   "execution_count": 66,
   "metadata": {},
   "outputs": [
    {
     "name": "stdout",
     "output_type": "stream",
     "text": [
      "학교:인천정보산업고등학교, 학번:30112,이름:이규민\n"
     ]
    }
   ],
   "source": [
    "info_1 = '학교:{}, 학번:{},이름:{}'\n",
    "pr = info_1.format('인천정보산업고등학교',30112,'이규민')\n",
    "print(pr)"
   ]
  },
  {
   "cell_type": "markdown",
   "metadata": {},
   "source": [
    "### [문제1] 30부터 50까지 중에서 홀수만 출력"
   ]
  },
  {
   "cell_type": "code",
   "execution_count": 7,
   "metadata": {},
   "outputs": [
    {
     "name": "stdout",
     "output_type": "stream",
     "text": [
      "31\n",
      "33\n",
      "35\n",
      "37\n",
      "39\n",
      "41\n",
      "43\n",
      "45\n",
      "47\n",
      "49\n"
     ]
    }
   ],
   "source": [
    "for i in range(30,51):\n",
    "    if i%2 != 0:\n",
    "        print(i)"
   ]
  },
  {
   "cell_type": "markdown",
   "metadata": {},
   "source": [
    "### [문제2] 아이디를(문자)를 입력받아 동일하면 회원 아니면 회원가입"
   ]
  },
  {
   "cell_type": "code",
   "execution_count": 1,
   "metadata": {},
   "outputs": [
    {
     "name": "stdout",
     "output_type": "stream",
     "text": [
      "내용 입력>>아이디\n",
      "회원\n"
     ]
    }
   ],
   "source": [
    "st=(input('내용 입력>>'))\n",
    "if st == \"아이디\" :\n",
    "    print('회원')\n",
    "else :\n",
    "    print('회원가입')"
   ]
  },
  {
   "cell_type": "markdown",
   "metadata": {},
   "source": [
    "### [문제3] ex) 인천정보산업고/30105/김장민 입력받아\n",
    "- 학교 : 인천정보산업고\n",
    "- 학번 : 30105\n",
    "- 이름 : 김장민"
   ]
  },
  {
   "cell_type": "code",
   "execution_count": 6,
   "metadata": {},
   "outputs": [
    {
     "name": "stdout",
     "output_type": "stream",
     "text": [
      "내용 입력>>인/정/산\n",
      "학교 :  인\n",
      "학번 :  정\n",
      "이름 :  산\n"
     ]
    }
   ],
   "source": [
    "stu=list(map(str,input('내용 입력>>').split('/')))\n",
    "print('학교 : ', stu[0])\n",
    "print('학번 : ',stu[1])\n",
    "print('이름 : ',stu[2])"
   ]
  },
  {
   "cell_type": "markdown",
   "metadata": {},
   "source": [
    "### [문제4] 숫자데이터 5개를 입력받아\n",
    "- 합계\n",
    "- 평균"
   ]
  },
  {
   "cell_type": "code",
   "execution_count": 8,
   "metadata": {},
   "outputs": [
    {
     "name": "stdout",
     "output_type": "stream",
     "text": [
      "숫자 5개 입력 : 1 2 3 4 5\n",
      "합계 : 15\n",
      "평균 : 3.00\n"
     ]
    }
   ],
   "source": [
    "\n",
    "a = list(map(int,input('숫자 5개 입력 : ').split(' ')))\n",
    "Sum = 0\n",
    "for i in range(len(a)):\n",
    "    Sum += a[i]\n",
    "print('합계 : %d'%Sum)\n",
    "print('평균 : %.2f'%(Sum/len(a)))"
   ]
  },
  {
   "cell_type": "code",
   "execution_count": null,
   "metadata": {},
   "outputs": [],
   "source": [
    "pr ="
   ]
  }
 ],
 "metadata": {
  "kernelspec": {
   "display_name": "Python 3",
   "language": "python",
   "name": "python3"
  },
  "language_info": {
   "codemirror_mode": {
    "name": "ipython",
    "version": 3
   },
   "file_extension": ".py",
   "mimetype": "text/x-python",
   "name": "python",
   "nbconvert_exporter": "python",
   "pygments_lexer": "ipython3",
   "version": "3.7.4"
  }
 },
 "nbformat": 4,
 "nbformat_minor": 2
}
