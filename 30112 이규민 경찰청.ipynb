{
 "cells": [
  {
   "cell_type": "markdown",
   "metadata": {},
   "source": [
    "## 30112 이규민"
   ]
  },
  {
   "cell_type": "markdown",
   "metadata": {},
   "source": [
    "1. 공표통계 및 해석방법\n",
    " ○ 공표통계는 고소․고발된 사건을 포함하여 경찰이 처리한 사건에 대한 통계로서, 기소․\n",
    "불기소 의견 송치 등을 모두 포함한 자료이므로 최종 형사처분과는 차이가 있을 수 있\n",
    "다. 아래 통계표는 5년간 범죄유형별 발생건수 및 발생비 추이를 나타내는 그래프의 일\n",
    "부\n"
   ]
  },
  {
   "cell_type": "markdown",
   "metadata": {},
   "source": [
    "### 출처 : http://kostat.go.kr/portal/korea/kor_pi/8/6/2/index.board?bmode=download&bSeq=&aSeq=379898&ord=1\n",
    "\n",
    "- 확장자 : csv\n",
    "- 주제 : 경찰청 사건 통계\n",
    "- 작성기관 ; 검찰청"
   ]
  },
  {
   "cell_type": "markdown",
   "metadata": {},
   "source": [
    "### 목적 : 무슨 범죄가 가장 많이 일어나는지 알아보기"
   ]
  },
  {
   "cell_type": "code",
   "execution_count": 118,
   "metadata": {},
   "outputs": [],
   "source": [
    "import pandas as pd"
   ]
  },
  {
   "cell_type": "code",
   "execution_count": 119,
   "metadata": {},
   "outputs": [
    {
     "data": {
      "text/plain": [
       "'C:\\\\Users\\\\user\\\\Desktop\\\\.ipynb_checkpoints\\\\경찰청.csv'"
      ]
     },
     "execution_count": 119,
     "metadata": {},
     "output_type": "execute_result"
    }
   ],
   "source": [
    "path = r'C:\\Users\\user\\Desktop\\.ipynb_checkpoints\\경찰청.csv'\n",
    "path"
   ]
  },
  {
   "cell_type": "code",
   "execution_count": 120,
   "metadata": {
    "scrolled": true
   },
   "outputs": [
    {
     "data": {
      "text/html": [
       "<div>\n",
       "<style scoped>\n",
       "    .dataframe tbody tr th:only-of-type {\n",
       "        vertical-align: middle;\n",
       "    }\n",
       "\n",
       "    .dataframe tbody tr th {\n",
       "        vertical-align: top;\n",
       "    }\n",
       "\n",
       "    .dataframe thead th {\n",
       "        text-align: right;\n",
       "    }\n",
       "</style>\n",
       "<table border=\"1\" class=\"dataframe\">\n",
       "  <thead>\n",
       "    <tr style=\"text-align: right;\">\n",
       "      <th></th>\n",
       "      <th>발생년도</th>\n",
       "      <th>강력범죄</th>\n",
       "      <th>절도범죄</th>\n",
       "      <th>폭력범죄</th>\n",
       "      <th>지능범죄</th>\n",
       "      <th>풍속범죄</th>\n",
       "      <th>특별경제범죄</th>\n",
       "      <th>마약범죄</th>\n",
       "      <th>보건범죄</th>\n",
       "      <th>환경범죄</th>\n",
       "      <th>교통범죄</th>\n",
       "      <th>노동범죄</th>\n",
       "      <th>안보범죄</th>\n",
       "      <th>선거범죄</th>\n",
       "      <th>병역범죄</th>\n",
       "      <th>기타범죄</th>\n",
       "      <th>전체범죄</th>\n",
       "    </tr>\n",
       "  </thead>\n",
       "  <tbody>\n",
       "    <tr>\n",
       "      <td>0</td>\n",
       "      <td>2013</td>\n",
       "      <td>26,963</td>\n",
       "      <td>288,343</td>\n",
       "      <td>294,187</td>\n",
       "      <td>329,439</td>\n",
       "      <td>27,474</td>\n",
       "      <td>71,019</td>\n",
       "      <td>4,598</td>\n",
       "      <td>20,383</td>\n",
       "      <td>4,135</td>\n",
       "      <td>573,453</td>\n",
       "      <td>1,721</td>\n",
       "      <td>135</td>\n",
       "      <td>398</td>\n",
       "      <td>26,173</td>\n",
       "      <td>188,855</td>\n",
       "      <td>1,857,276</td>\n",
       "    </tr>\n",
       "    <tr>\n",
       "      <td>1</td>\n",
       "      <td>2014</td>\n",
       "      <td>25,278</td>\n",
       "      <td>266,222</td>\n",
       "      <td>290,073</td>\n",
       "      <td>298,652</td>\n",
       "      <td>25,070</td>\n",
       "      <td>72,908</td>\n",
       "      <td>4,825</td>\n",
       "      <td>14,657</td>\n",
       "      <td>2536</td>\n",
       "      <td>573,493</td>\n",
       "      <td>1,308</td>\n",
       "      <td>84</td>\n",
       "      <td>1,874</td>\n",
       "      <td>21,549</td>\n",
       "      <td>180,437</td>\n",
       "      <td>1,778,966</td>\n",
       "    </tr>\n",
       "    <tr>\n",
       "      <td>2</td>\n",
       "      <td>2015</td>\n",
       "      <td>25,334</td>\n",
       "      <td>245,853</td>\n",
       "      <td>305,947</td>\n",
       "      <td>316,121</td>\n",
       "      <td>24,491</td>\n",
       "      <td>86,329</td>\n",
       "      <td>6,411</td>\n",
       "      <td>14,602</td>\n",
       "      <td>2,955</td>\n",
       "      <td>596,665</td>\n",
       "      <td>1,145</td>\n",
       "      <td>121</td>\n",
       "      <td>760</td>\n",
       "      <td>18,726</td>\n",
       "      <td>216,197</td>\n",
       "      <td>1,861,657</td>\n",
       "    </tr>\n",
       "    <tr>\n",
       "      <td>3</td>\n",
       "      <td>2016</td>\n",
       "      <td>25,765</td>\n",
       "      <td>203,037</td>\n",
       "      <td>309,394</td>\n",
       "      <td>312,577</td>\n",
       "      <td>26,165</td>\n",
       "      <td>65,025</td>\n",
       "      <td>7,329</td>\n",
       "      <td>14,662</td>\n",
       "      <td>4,349</td>\n",
       "      <td>600,401</td>\n",
       "      <td>2,457</td>\n",
       "      <td>81</td>\n",
       "      <td>1,018</td>\n",
       "      <td>16,651</td>\n",
       "      <td>260,539</td>\n",
       "      <td>1,849,450</td>\n",
       "    </tr>\n",
       "    <tr>\n",
       "      <td>4</td>\n",
       "      <td>2017</td>\n",
       "      <td>27,274</td>\n",
       "      <td>183,757</td>\n",
       "      <td>293,086</td>\n",
       "      <td>302,466</td>\n",
       "      <td>22,501</td>\n",
       "      <td>53,356</td>\n",
       "      <td>7,501</td>\n",
       "      <td>12,561</td>\n",
       "      <td>4,879</td>\n",
       "      <td>501,162</td>\n",
       "      <td>2,862</td>\n",
       "      <td>98</td>\n",
       "      <td>640</td>\n",
       "      <td>15,327</td>\n",
       "      <td>234,871</td>\n",
       "      <td>1,662,341</td>\n",
       "    </tr>\n",
       "  </tbody>\n",
       "</table>\n",
       "</div>"
      ],
      "text/plain": [
       "   발생년도    강력범죄     절도범죄     폭력범죄     지능범죄    풍속범죄  특별경제범죄   마약범죄    보건범죄  \\\n",
       "0  2013  26,963  288,343  294,187  329,439  27,474  71,019  4,598  20,383   \n",
       "1  2014  25,278  266,222  290,073  298,652  25,070  72,908  4,825  14,657   \n",
       "2  2015  25,334  245,853  305,947  316,121  24,491  86,329  6,411  14,602   \n",
       "3  2016  25,765  203,037  309,394  312,577  26,165  65,025  7,329  14,662   \n",
       "4  2017  27,274  183,757  293,086  302,466  22,501  53,356  7,501  12,561   \n",
       "\n",
       "    환경범죄     교통범죄   노동범죄  안보범죄   선거범죄    병역범죄     기타범죄       전체범죄  \n",
       "0  4,135  573,453  1,721   135    398  26,173  188,855  1,857,276  \n",
       "1   2536  573,493  1,308    84  1,874  21,549  180,437  1,778,966  \n",
       "2  2,955  596,665  1,145   121    760  18,726  216,197  1,861,657  \n",
       "3  4,349  600,401  2,457    81  1,018  16,651  260,539  1,849,450  \n",
       "4  4,879  501,162  2,862    98    640  15,327  234,871  1,662,341  "
      ]
     },
     "execution_count": 120,
     "metadata": {},
     "output_type": "execute_result"
    }
   ],
   "source": [
    "data = pd.read_csv(path, encoding = 'cp949')\n",
    "data"
   ]
  },
  {
   "cell_type": "code",
   "execution_count": 121,
   "metadata": {},
   "outputs": [],
   "source": [
    "import matplotlib.pylab as plt"
   ]
  },
  {
   "cell_type": "code",
   "execution_count": 143,
   "metadata": {
    "scrolled": true
   },
   "outputs": [
    {
     "data": {
      "text/plain": [
       "[<matplotlib.lines.Line2D at 0x1e9b0e68748>]"
      ]
     },
     "execution_count": 143,
     "metadata": {},
     "output_type": "execute_result"
    },
    {
     "data": {
      "image/png": "[encoded data removed]",
      "text/plain": [
       "<Figure size 432x288 with 1 Axes>"
      ]
     },
     "metadata": {
      "needs_background": "light"
     },
     "output_type": "display_data"
    }
   ],
   "source": [
    "x = data['발생년도']\n",
    "y = data['안보범죄']\n",
    "plt.plot(x,y)"
   ]
  },
  {
   "cell_type": "markdown",
   "metadata": {},
   "source": [
    "- 안보범죄 라는것을 새로히 알고 무시할수 없는 건수의 사건이 일어나고 있다는 것을 느꼈다\n",
    "- 전체범죄 180만중 가장 적은 수의 범죄종류는 안보범죄 라는것을 알았다"
   ]
  },
  {
   "cell_type": "code",
   "execution_count": 145,
   "metadata": {},
   "outputs": [
    {
     "data": {
      "text/plain": [
       "<BarContainer object of 5 artists>"
      ]
     },
     "execution_count": 145,
     "metadata": {},
     "output_type": "execute_result"
    },
    {
     "data": {
      "image/png": "[encoded data removed]",
      "text/plain": [
       "<Figure size 432x288 with 1 Axes>"
      ]
     },
     "metadata": {
      "needs_background": "light"
     },
     "output_type": "display_data"
    }
   ],
   "source": [
    "y= data['교통범죄']\n",
    "plt.bar(x,y,color='skyblue')"
   ]
  },
  {
   "cell_type": "markdown",
   "metadata": {},
   "source": [
    "- 매년 가장 많은 범죄종류는 교통범죄 라는것을 알았다\n",
    "- 이 차트를 통해서 2017년에는 다른 년도에 비해서 적은 사건수를 기록했다는것을 알았다"
   ]
  },
  {
   "cell_type": "code",
   "execution_count": null,
   "metadata": {},
   "outputs": [],
   "source": []
  },
  {
   "cell_type": "code",
   "execution_count": null,
   "metadata": {},
   "outputs": [],
   "source": []
  }
 ],
 "metadata": {
  "kernelspec": {
   "display_name": "Python 3",
   "language": "python",
   "name": "python3"
  },
  "language_info": {
   "codemirror_mode": {
    "name": "ipython",
    "version": 3
   },
   "file_extension": ".py",
   "mimetype": "text/x-python",
   "name": "python",
   "nbconvert_exporter": "python",
   "pygments_lexer": "ipython3",
   "version": "3.7.4"
  }
 },
 "nbformat": 4,
 "nbformat_minor": 2
}
