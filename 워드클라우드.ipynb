{
 "cells": [
  {
   "cell_type": "markdown",
   "metadata": {},
   "source": [
    "## 워드클라우드"
   ]
  },
  {
   "cell_type": "markdown",
   "metadata": {},
   "source": [
    "### 30112 이규민"
   ]
  },
  {
   "cell_type": "code",
   "execution_count": 82,
   "metadata": {
    "scrolled": true
   },
   "outputs": [
    {
     "name": "stdout",
     "output_type": "stream",
     "text": [
      "Requirement already satisfied: wordcloud in c:\\users\\user\\anaconda3\\lib\\site-packages (1.7.0)\n",
      "Requirement already satisfied: matplotlib in c:\\users\\user\\anaconda3\\lib\\site-packages (from wordcloud) (3.1.1)\n",
      "Requirement already satisfied: pillow in c:\\users\\user\\anaconda3\\lib\\site-packages (from wordcloud) (6.2.0)\n",
      "Requirement already satisfied: numpy>=1.6.1 in c:\\users\\user\\anaconda3\\lib\\site-packages (from wordcloud) (1.16.5)\n",
      "Requirement already satisfied: cycler>=0.10 in c:\\users\\user\\anaconda3\\lib\\site-packages (from matplotlib->wordcloud) (0.10.0)\n",
      "Requirement already satisfied: kiwisolver>=1.0.1 in c:\\users\\user\\anaconda3\\lib\\site-packages (from matplotlib->wordcloud) (1.1.0)\n",
      "Requirement already satisfied: pyparsing!=2.0.4,!=2.1.2,!=2.1.6,>=2.0.1 in c:\\users\\user\\anaconda3\\lib\\site-packages (from matplotlib->wordcloud) (2.4.2)\n",
      "Requirement already satisfied: python-dateutil>=2.1 in c:\\users\\user\\anaconda3\\lib\\site-packages (from matplotlib->wordcloud) (2.8.0)\n",
      "Requirement already satisfied: six in c:\\users\\user\\anaconda3\\lib\\site-packages (from cycler>=0.10->matplotlib->wordcloud) (1.12.0)\n",
      "Requirement already satisfied: setuptools in c:\\users\\user\\anaconda3\\lib\\site-packages (from kiwisolver>=1.0.1->matplotlib->wordcloud) (41.4.0)\n",
      "Note: you may need to restart the kernel to use updated packages.\n"
     ]
    }
   ],
   "source": [
    "pip install wordcloud"
   ]
  },
  {
   "cell_type": "code",
   "execution_count": 13,
   "metadata": {},
   "outputs": [],
   "source": [
    "import numpy as np\n",
    "from PIL import Image\n",
    "from wordcloud import WordCloud"
   ]
  },
  {
   "cell_type": "markdown",
   "metadata": {},
   "source": [
    "### 텍스트 가져오기"
   ]
  },
  {
   "cell_type": "code",
   "execution_count": 14,
   "metadata": {},
   "outputs": [],
   "source": [
    "path = r'C:\\Users\\user\\Desktop\\peterpen'"
   ]
  },
  {
   "cell_type": "code",
   "execution_count": 254,
   "metadata": {},
   "outputs": [],
   "source": [
    "text = open(\"IU.txt\",encoding='utf-8').read()"
   ]
  },
  {
   "cell_type": "code",
   "execution_count": 255,
   "metadata": {},
   "outputs": [
    {
     "data": {
      "text/plain": [
       "'So are you happy now\\nFinally happy now are you\\n\\n뭐 그대로야 난\\n다 잃어버린 것 같아\\n\\n모든 게 맘대로 왔다가 인사도 없이 떠나\\n이대로는 무엇도 사랑하고 싶지 않아\\n다 해질 대로 해져버린\\n기억 속을 여행해\\n\\n우리는 오렌지 태양 아래\\n그림자 없이 함께 춤을 춰\\n정해진 이별 따위는 없어\\n아름다웠던 그 기억에서 만나\\nForever young\\n\\n우우우 우우우우 우우우 우우우우\\nForever we young\\n우우우 우우우우\\n이런 악몽이라면 영영 깨지 않을게\\n\\n섬 그래 여긴 섬 서로가 만든 작은 섬\\n예 음 forever young 영원이란 말은 모래성\\n\\n작별은 마치 재난문자 같지\\n그리움과 같이 맞이하는 아침\\n서로가 이 영겁을 지나\\n꼭 이 섬에서 다시 만나\\n\\n지나듯 날 위로하던 누구의 말대로 고작\\n한 뼘짜리 추억을 잊는 게 참 쉽지 않아\\n시간이 지나도 여전히\\n날 붙드는 그곳에\\n\\n우리는 오렌지 태양 아래\\n그림자 없이 함께 춤을 춰\\n정해진 안녕 따위는 없어\\n아름다웠던 그 기억에서 만나\\n\\n우리는 서로를 베고 누워\\n슬프지 않은 이야기를 나눠\\n우울한 결말 따위는 없어\\n난 영원히 널 이 기억에서 만나\\nForever young\\n\\n우우우 우우우우 우우우 우우우우\\nForever we young\\n우우우 우우우우\\n이런 악몽이라면 영영 깨지 않을게'"
      ]
     },
     "execution_count": 255,
     "metadata": {},
     "output_type": "execute_result"
    }
   ],
   "source": [
    "text"
   ]
  },
  {
   "cell_type": "code",
   "execution_count": 263,
   "metadata": {},
   "outputs": [],
   "source": [
    "img='m.jpg'"
   ]
  },
  {
   "cell_type": "code",
   "execution_count": 264,
   "metadata": {},
   "outputs": [],
   "source": [
    "mg = Image.open(img)"
   ]
  },
  {
   "cell_type": "code",
   "execution_count": 266,
   "metadata": {},
   "outputs": [
    {
     "data": {
      "text/plain": [
       "array([[[255, 255, 255],\n",
       "        [255, 255, 255],\n",
       "        [255, 255, 255],\n",
       "        ...,\n",
       "        [255, 255, 255],\n",
       "        [255, 255, 255],\n",
       "        [255, 255, 255]],\n",
       "\n",
       "       [[255, 255, 255],\n",
       "        [255, 255, 255],\n",
       "        [255, 255, 255],\n",
       "        ...,\n",
       "        [255, 255, 255],\n",
       "        [255, 255, 255],\n",
       "        [255, 255, 255]],\n",
       "\n",
       "       [[255, 255, 255],\n",
       "        [255, 255, 255],\n",
       "        [255, 255, 255],\n",
       "        ...,\n",
       "        [255, 255, 255],\n",
       "        [255, 255, 255],\n",
       "        [255, 255, 255]],\n",
       "\n",
       "       ...,\n",
       "\n",
       "       [[255, 255, 255],\n",
       "        [255, 255, 255],\n",
       "        [255, 255, 255],\n",
       "        ...,\n",
       "        [255, 255, 255],\n",
       "        [255, 255, 255],\n",
       "        [255, 255, 255]],\n",
       "\n",
       "       [[255, 255, 255],\n",
       "        [255, 255, 255],\n",
       "        [255, 255, 255],\n",
       "        ...,\n",
       "        [255, 255, 255],\n",
       "        [255, 255, 255],\n",
       "        [255, 255, 255]],\n",
       "\n",
       "       [[255, 255, 255],\n",
       "        [255, 255, 255],\n",
       "        [255, 255, 255],\n",
       "        ...,\n",
       "        [255, 255, 255],\n",
       "        [255, 255, 255],\n",
       "        [255, 255, 255]]], dtype=uint8)"
      ]
     },
     "execution_count": 266,
     "metadata": {},
     "output_type": "execute_result"
    }
   ],
   "source": [
    "lp_mask=np.array(mg)\n",
    "lp_mask"
   ]
  },
  {
   "cell_type": "code",
   "execution_count": 267,
   "metadata": {},
   "outputs": [],
   "source": [
    "lp_wc=WordCloud(font_path='‪C:\\Windows\\Fonts\\H2GTRE.TTF',mask=lp_mask,background_color = 'white',max_font_size=50,contour_width=5,contour_color='green').generate(text)\n"
   ]
  },
  {
   "cell_type": "code",
   "execution_count": 268,
   "metadata": {},
   "outputs": [
    {
     "data": {
      "text/plain": [
       "<wordcloud.wordcloud.WordCloud at 0x28041f617c8>"
      ]
     },
     "execution_count": 268,
     "metadata": {},
     "output_type": "execute_result"
    }
   ],
   "source": [
    "lp_wc"
   ]
  },
  {
   "cell_type": "code",
   "execution_count": 269,
   "metadata": {},
   "outputs": [
    {
     "data": {
      "text/plain": [
       "{'우우우 우우우우': 1.0,\n",
       " 'Forever': 0.8333333333333334,\n",
       " 'young': 0.8333333333333334,\n",
       " '만나': 0.6666666666666666,\n",
       " '없이': 0.5,\n",
       " '우리는': 0.5,\n",
       " '따위는': 0.5,\n",
       " '없어': 0.5,\n",
       " '기억에서': 0.5,\n",
       " 'happy': 0.3333333333333333,\n",
       " 'now': 0.3333333333333333,\n",
       " '않아': 0.3333333333333333,\n",
       " '오렌지': 0.3333333333333333,\n",
       " '태양': 0.3333333333333333,\n",
       " '아래': 0.3333333333333333,\n",
       " '그림자': 0.3333333333333333,\n",
       " '함께': 0.3333333333333333,\n",
       " '춤을': 0.3333333333333333,\n",
       " '정해진': 0.3333333333333333,\n",
       " '아름다웠던': 0.3333333333333333,\n",
       " '이런': 0.3333333333333333,\n",
       " '악몽이라면': 0.3333333333333333,\n",
       " '영영': 0.3333333333333333,\n",
       " '깨지': 0.3333333333333333,\n",
       " '않을게': 0.3333333333333333,\n",
       " '서로가': 0.3333333333333333,\n",
       " 'So': 0.16666666666666666,\n",
       " 'Finally': 0.16666666666666666,\n",
       " '그대로야': 0.16666666666666666,\n",
       " '잃어버린': 0.16666666666666666,\n",
       " '같아': 0.16666666666666666,\n",
       " '모든': 0.16666666666666666,\n",
       " '맘대로': 0.16666666666666666,\n",
       " '왔다가': 0.16666666666666666,\n",
       " '인사도': 0.16666666666666666,\n",
       " '떠나': 0.16666666666666666,\n",
       " '이대로는': 0.16666666666666666,\n",
       " '무엇도': 0.16666666666666666,\n",
       " '사랑하고': 0.16666666666666666,\n",
       " '싶지': 0.16666666666666666,\n",
       " '해질': 0.16666666666666666,\n",
       " '대로': 0.16666666666666666,\n",
       " '해져버린': 0.16666666666666666,\n",
       " '기억': 0.16666666666666666,\n",
       " '속을': 0.16666666666666666,\n",
       " '여행해': 0.16666666666666666,\n",
       " '이별': 0.16666666666666666,\n",
       " '그래': 0.16666666666666666,\n",
       " '여긴': 0.16666666666666666,\n",
       " '만든': 0.16666666666666666,\n",
       " '작은': 0.16666666666666666,\n",
       " '영원이란': 0.16666666666666666,\n",
       " '말은': 0.16666666666666666,\n",
       " '모래성': 0.16666666666666666,\n",
       " '작별은': 0.16666666666666666,\n",
       " '마치': 0.16666666666666666,\n",
       " '재난문자': 0.16666666666666666,\n",
       " '같지': 0.16666666666666666,\n",
       " '그리움과': 0.16666666666666666,\n",
       " '같이': 0.16666666666666666,\n",
       " '맞이하는': 0.16666666666666666,\n",
       " '아침': 0.16666666666666666,\n",
       " '영겁을': 0.16666666666666666,\n",
       " '지나': 0.16666666666666666,\n",
       " '섬에서': 0.16666666666666666,\n",
       " '다시': 0.16666666666666666,\n",
       " '지나듯': 0.16666666666666666,\n",
       " '위로하던': 0.16666666666666666,\n",
       " '누구의': 0.16666666666666666,\n",
       " '말대로': 0.16666666666666666,\n",
       " '고작': 0.16666666666666666,\n",
       " '뼘짜리': 0.16666666666666666,\n",
       " '추억을': 0.16666666666666666,\n",
       " '잊는': 0.16666666666666666,\n",
       " '쉽지': 0.16666666666666666,\n",
       " '시간이': 0.16666666666666666,\n",
       " '지나도': 0.16666666666666666,\n",
       " '여전히': 0.16666666666666666,\n",
       " '붙드는': 0.16666666666666666,\n",
       " '그곳에': 0.16666666666666666,\n",
       " '안녕': 0.16666666666666666,\n",
       " '서로를': 0.16666666666666666,\n",
       " '베고': 0.16666666666666666,\n",
       " '누워': 0.16666666666666666,\n",
       " '슬프지': 0.16666666666666666,\n",
       " '않은': 0.16666666666666666,\n",
       " '이야기를': 0.16666666666666666,\n",
       " '나눠': 0.16666666666666666,\n",
       " '우울한': 0.16666666666666666,\n",
       " '결말': 0.16666666666666666,\n",
       " '영원히': 0.16666666666666666}"
      ]
     },
     "execution_count": 269,
     "metadata": {},
     "output_type": "execute_result"
    }
   ],
   "source": [
    "lp_wc.words_"
   ]
  },
  {
   "cell_type": "code",
   "execution_count": 270,
   "metadata": {},
   "outputs": [
    {
     "data": {
      "image/png": "[encoded data removed]",
      "text/plain": [
       "<PIL.Image.Image image mode=RGB size=225x225 at 0x2803C048B48>"
      ]
     },
     "execution_count": 270,
     "metadata": {},
     "output_type": "execute_result"
    }
   ],
   "source": [
    "lp_wc.to_image()"
   ]
  }
 ],
 "metadata": {
  "kernelspec": {
   "display_name": "Python 3",
   "language": "python",
   "name": "python3"
  },
  "language_info": {
   "codemirror_mode": {
    "name": "ipython",
    "version": 3
   },
   "file_extension": ".py",
   "mimetype": "text/x-python",
   "name": "python",
   "nbconvert_exporter": "python",
   "pygments_lexer": "ipython3",
   "version": "3.7.4"
  }
 },
 "nbformat": 4,
 "nbformat_minor": 2
}
