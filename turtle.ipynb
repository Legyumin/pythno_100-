{
 "cells": [
  {
   "cell_type": "code",
   "execution_count": 6,
   "metadata": {},
   "outputs": [],
   "source": [
    "import turtle as t\n",
    "t.shape('turtle')\n",
    "t.fd(200)\n",
    "t.fd(200)\n",
    "t.left(90)\n",
    "t.fd(200)\n",
    "t.left(90)\n",
    "t.fd(400)\n",
    "t.left(90)\n",
    "t.fd(200)\n",
    "t.exitonclick()"
   ]
  },
  {
   "cell_type": "code",
   "execution_count": 12,
   "metadata": {},
   "outputs": [],
   "source": [
    "import turtle as t\n",
    "t.shape('turtle')\n",
    "t.fd(200)\n",
    "t.left(120)\n",
    "t.fd(200)\n",
    "t.left(120)\n",
    "t.fd(200)\n",
    "t.exitonclick()"
   ]
  },
  {
   "cell_type": "code",
   "execution_count": 2,
   "metadata": {},
   "outputs": [],
   "source": [
    "from turtle import *\n",
    "color('red', 'yellow')\n",
    "begin_fill()\n",
    "while True:\n",
    "    forward(200)\n",
    "    left(170)\n",
    "    if abs(pos()) < 1:\n",
    "        break\n",
    "end_fill()\n",
    "done()"
   ]
  },
  {
   "cell_type": "code",
   "execution_count": null,
   "metadata": {},
   "outputs": [],
   "source": [
    "import turtle as t\n",
    "t.shape('turtle')\n",
    "t.color('blue','green')\n",
    "t.begin_fill()\n",
    "for i in range(3):\n",
    "        t.fd(200)\n",
    "        t.left(120)\n",
    "t.end_fill()\n",
    "t.exitonclick()"
   ]
  },
  {
   "cell_type": "code",
   "execution_count": null,
   "metadata": {},
   "outputs": [
    {
     "name": "stdout",
     "output_type": "stream",
     "text": [
      "몇각형 ?5\n"
     ]
    }
   ],
   "source": [
    "import turtle as t\n",
    "t.shape('turtle')\n",
    "t.color('blue','green')\n",
    "t.begin_fill()\n",
    "\n",
    "a = int(input('몇각형 ?'))\n",
    "for i in range(a):\n",
    "    for i in range(a):\n",
    "        t.fd(100)\n",
    "        t.left(360/a)\n",
    "    t.right(180/a)\n",
    "    t.fd(100)\n",
    "t.end_fill()\n",
    "t.exitonclick()"
   ]
  },
  {
   "cell_type": "code",
   "execution_count": null,
   "metadata": {},
   "outputs": [],
   "source": []
  }
 ],
 "metadata": {
  "kernelspec": {
   "display_name": "Python 3",
   "language": "python",
   "name": "python3"
  },
  "language_info": {
   "codemirror_mode": {
    "name": "ipython",
    "version": 3
   },
   "file_extension": ".py",
   "mimetype": "text/x-python",
   "name": "python",
   "nbconvert_exporter": "python",
   "pygments_lexer": "ipython3",
   "version": "3.7.4"
  }
 },
 "nbformat": 4,
 "nbformat_minor": 2
}
